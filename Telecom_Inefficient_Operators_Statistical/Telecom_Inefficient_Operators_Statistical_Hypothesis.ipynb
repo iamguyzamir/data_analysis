{
 "cells": [
  {
   "cell_type": "markdown",
   "id": "decreased-recruitment",
   "metadata": {},
   "source": [
    "# Inefficient Operator Identification for CallMeMaybe\n",
    "Guy Zamir, April 2021\n",
    "## Goal\n",
    "CallMeMaybe, a virtual telephony service, wants to improve the quality of their service and then in turn improve customer satisfaction and reduce churn.  \n"
   ]
  },
  {
   "cell_type": "markdown",
   "id": "partial-michael",
   "metadata": {},
   "source": [
    "\n",
    "##  What are we doing in order to find inefficient operators? \n",
    "One of the things it is doing in order to achieve this goal is to develop a function that will highlight the least effective operators to supervisors. \n",
    "\n",
    "* Metrics to look at will be defined as: \n",
    "    - Number of missed incoming calls will be defined as is_missed_call = True & direction = 'in'\n",
    "    - Waiting time for incoming calls will be defined as direction = 'in' & waiting time (total_call_duration minus call_duation) \n",
    "    - Number of outgoing calls in case the operator is supposed to make outgoing calls will be defined as the sum of 'calls_count' & at least one value within 'direction' == 'out' \n",
    " \n",
    "<u> <b> How do we define ineffectiveness of an operator?</b>  </u> <br>\n",
    "1. Find the score of all operators for each of the metrics. \n",
    "2. Divide each metric into tenths and then score each operator based on their rank (1-10) for every metric individually. \n",
    "Then, we have options to pick from:\n",
    "    1. Operator is considered ineffective in case he is in the 10th worst category in either of the metrics.\n",
    "    2. Avg. the score of each operator for all three metrics and then define ineffective is it is got a score of over 7.5 (25% least effective operators). \n",
    "    3. Pick one of the options above with a different sensitivity threshold. \n",
    "\n",
    "\n",
    "We choose to go with the second option of avg. within all three metrics and a threshold of 7.5/10\n",
    " \n"
   ]
  },
  {
   "cell_type": "markdown",
   "id": "abandoned-latitude",
   "metadata": {},
   "source": [
    "## How are we going to achieve it?\n",
    "1. [Data pre-processing ](#1) <br>\n",
    "    - download the data\n",
    "    - validate data types \n",
    "    - missing values \n",
    "    - duplicates \n",
    "    - check correct column names \n",
    "2. [Carry out exploratory data analysis](#2)<br>\n",
    "    - create 'waiting_time' column as 'total_call_duration' minus 'call_duation' \n",
    "    - create tables with the 3 following metrics grouped by operator_id:\n",
    "        - count of missed incoming calls\n",
    "        - sum of waiting time for incoming calls\n",
    "        - count of outgoing calls \n",
    "    - Merge into a master operator_id table with aggregated data per operator \n",
    "    - plot histograms for all 3 metrics \n",
    "    - calculate 75th and 90th precentiles for each of the metrics\n",
    "    - decide if there are anomalies that should be excluded. If needed, duplicate data frame and then remove anomalies. \n",
    "3. [Identify ineffective operators](#3)<br>\n",
    "    - define a function to rank / bin the operators score for each of the metrics as a 1-100 score so that the higher the score the worst the operator is doing in the specific metric. <i> e.g. in the third metric it is more confusing than the others, since the lower the amount of calls the worse the operator is (for those that are supposed to make outgoing calls). In case the operator is not supposed to make such calls, we will avg. them only based on the two first metrics. </i>\n",
    "    - apply function to our data frame\n",
    "    - plot 3 histograms to see how many operators fall within each rank (1-100) of the metrics we defined. \n",
    "    - decide whether the threshold we agreed upon of 75%+ should stay. For example, if it looks like 50% of the operators are going to be considered ineffective - maybe we should be changing our level of sensitivity and set a higher threshold to be considered as ineffective. \n",
    "    - calculate average of each operator for the three metrics (within operators_pivot).  \n",
    "    - add a column of is_ineffective and set to true all operators with avg. above the agreed upon threshold\n",
    "    \n",
    "\n",
    "    \n",
    "4. [Test statistical hypotheses](#4) \n",
    "\n",
    "    - merge original data frame with 'telecom_clients_us' table on the 'user_id' column\n",
    "    - calculate revenue per call as the sum of 'tariff_plan' * 'call_duration'\n",
    "    - calculate total revenue per operator in a new pivot data frame. \n",
    "    - join this column to the operators pivot we defined in step 2 \n",
    "    - proposed hypothesis: ineffective operators yield lower total revenue. \n",
    "        - H0: mean revenue for ineffective operators and effective ones is similar.\n",
    "        - H1: mean revenue for ineffective operators is lower than this of effective ones. \n",
    "    - conduct normality assumption tests for total revenue data\n",
    "    - divide total revenue data into ineffective and effective operators \n",
    "    - if meets normality assumption, conduct a t-test. Otherwise, conduct a matt-whitney test. \n",
    "    - conclusion & propose next steps \n",
    "\n",
    "5. [Others](#5)\n",
    "    - Useful readings"
   ]
  },
  {
   "cell_type": "markdown",
   "id": "competent-passenger",
   "metadata": {},
   "source": [
    "### Data pre-processing\n",
    "<a id=\"1\"></a>\n",
    "Import libraries "
   ]
  },
  {
   "cell_type": "code",
   "execution_count": 1,
   "id": "earned-representation",
   "metadata": {},
   "outputs": [],
   "source": [
    "import pandas as pd\n",
    "import numpy as np \n",
    "import plotly.express as px\n",
    "import plotly.graph_objects as go\n",
    "import seaborn as sns\n",
    "import matplotlib.pyplot as plt\n",
    "import statistics\n",
    "# from scipy import stats as st\n",
    "# import matplotlib.colors as mcolors"
   ]
  },
  {
   "cell_type": "markdown",
   "id": "deluxe-sleep",
   "metadata": {},
   "source": [
    "Download the data"
   ]
  },
  {
   "cell_type": "code",
   "execution_count": 2,
   "id": "similar-gender",
   "metadata": {},
   "outputs": [
    {
     "data": {
      "text/html": [
       "<div>\n",
       "<style scoped>\n",
       "    .dataframe tbody tr th:only-of-type {\n",
       "        vertical-align: middle;\n",
       "    }\n",
       "\n",
       "    .dataframe tbody tr th {\n",
       "        vertical-align: top;\n",
       "    }\n",
       "\n",
       "    .dataframe thead th {\n",
       "        text-align: right;\n",
       "    }\n",
       "</style>\n",
       "<table border=\"1\" class=\"dataframe\">\n",
       "  <thead>\n",
       "    <tr style=\"text-align: right;\">\n",
       "      <th></th>\n",
       "      <th>user_id</th>\n",
       "      <th>date</th>\n",
       "      <th>direction</th>\n",
       "      <th>internal</th>\n",
       "      <th>operator_id</th>\n",
       "      <th>is_missed_call</th>\n",
       "      <th>calls_count</th>\n",
       "      <th>call_duration</th>\n",
       "      <th>total_call_duration</th>\n",
       "    </tr>\n",
       "  </thead>\n",
       "  <tbody>\n",
       "    <tr>\n",
       "      <th>0</th>\n",
       "      <td>166377</td>\n",
       "      <td>2019-08-04 00:00:00+03:00</td>\n",
       "      <td>in</td>\n",
       "      <td>False</td>\n",
       "      <td>NaN</td>\n",
       "      <td>True</td>\n",
       "      <td>2</td>\n",
       "      <td>0</td>\n",
       "      <td>4</td>\n",
       "    </tr>\n",
       "    <tr>\n",
       "      <th>1</th>\n",
       "      <td>166377</td>\n",
       "      <td>2019-08-05 00:00:00+03:00</td>\n",
       "      <td>out</td>\n",
       "      <td>True</td>\n",
       "      <td>880022.0</td>\n",
       "      <td>True</td>\n",
       "      <td>3</td>\n",
       "      <td>0</td>\n",
       "      <td>5</td>\n",
       "    </tr>\n",
       "    <tr>\n",
       "      <th>2</th>\n",
       "      <td>166377</td>\n",
       "      <td>2019-08-05 00:00:00+03:00</td>\n",
       "      <td>out</td>\n",
       "      <td>True</td>\n",
       "      <td>880020.0</td>\n",
       "      <td>True</td>\n",
       "      <td>1</td>\n",
       "      <td>0</td>\n",
       "      <td>1</td>\n",
       "    </tr>\n",
       "    <tr>\n",
       "      <th>3</th>\n",
       "      <td>166377</td>\n",
       "      <td>2019-08-05 00:00:00+03:00</td>\n",
       "      <td>out</td>\n",
       "      <td>True</td>\n",
       "      <td>880020.0</td>\n",
       "      <td>False</td>\n",
       "      <td>1</td>\n",
       "      <td>10</td>\n",
       "      <td>18</td>\n",
       "    </tr>\n",
       "    <tr>\n",
       "      <th>4</th>\n",
       "      <td>166377</td>\n",
       "      <td>2019-08-05 00:00:00+03:00</td>\n",
       "      <td>out</td>\n",
       "      <td>False</td>\n",
       "      <td>880022.0</td>\n",
       "      <td>True</td>\n",
       "      <td>3</td>\n",
       "      <td>0</td>\n",
       "      <td>25</td>\n",
       "    </tr>\n",
       "    <tr>\n",
       "      <th>5</th>\n",
       "      <td>166377</td>\n",
       "      <td>2019-08-05 00:00:00+03:00</td>\n",
       "      <td>out</td>\n",
       "      <td>False</td>\n",
       "      <td>880020.0</td>\n",
       "      <td>False</td>\n",
       "      <td>2</td>\n",
       "      <td>3</td>\n",
       "      <td>29</td>\n",
       "    </tr>\n",
       "    <tr>\n",
       "      <th>6</th>\n",
       "      <td>166377</td>\n",
       "      <td>2019-08-05 00:00:00+03:00</td>\n",
       "      <td>out</td>\n",
       "      <td>False</td>\n",
       "      <td>880020.0</td>\n",
       "      <td>True</td>\n",
       "      <td>8</td>\n",
       "      <td>0</td>\n",
       "      <td>50</td>\n",
       "    </tr>\n",
       "    <tr>\n",
       "      <th>7</th>\n",
       "      <td>166377</td>\n",
       "      <td>2019-08-05 00:00:00+03:00</td>\n",
       "      <td>in</td>\n",
       "      <td>False</td>\n",
       "      <td>NaN</td>\n",
       "      <td>True</td>\n",
       "      <td>6</td>\n",
       "      <td>0</td>\n",
       "      <td>35</td>\n",
       "    </tr>\n",
       "    <tr>\n",
       "      <th>8</th>\n",
       "      <td>166377</td>\n",
       "      <td>2019-08-05 00:00:00+03:00</td>\n",
       "      <td>out</td>\n",
       "      <td>False</td>\n",
       "      <td>880020.0</td>\n",
       "      <td>True</td>\n",
       "      <td>8</td>\n",
       "      <td>0</td>\n",
       "      <td>50</td>\n",
       "    </tr>\n",
       "    <tr>\n",
       "      <th>9</th>\n",
       "      <td>166377</td>\n",
       "      <td>2019-08-06 00:00:00+03:00</td>\n",
       "      <td>in</td>\n",
       "      <td>False</td>\n",
       "      <td>NaN</td>\n",
       "      <td>True</td>\n",
       "      <td>4</td>\n",
       "      <td>0</td>\n",
       "      <td>62</td>\n",
       "    </tr>\n",
       "  </tbody>\n",
       "</table>\n",
       "</div>"
      ],
      "text/plain": [
       "   user_id                       date direction internal  operator_id  \\\n",
       "0   166377  2019-08-04 00:00:00+03:00        in    False          NaN   \n",
       "1   166377  2019-08-05 00:00:00+03:00       out     True     880022.0   \n",
       "2   166377  2019-08-05 00:00:00+03:00       out     True     880020.0   \n",
       "3   166377  2019-08-05 00:00:00+03:00       out     True     880020.0   \n",
       "4   166377  2019-08-05 00:00:00+03:00       out    False     880022.0   \n",
       "5   166377  2019-08-05 00:00:00+03:00       out    False     880020.0   \n",
       "6   166377  2019-08-05 00:00:00+03:00       out    False     880020.0   \n",
       "7   166377  2019-08-05 00:00:00+03:00        in    False          NaN   \n",
       "8   166377  2019-08-05 00:00:00+03:00       out    False     880020.0   \n",
       "9   166377  2019-08-06 00:00:00+03:00        in    False          NaN   \n",
       "\n",
       "   is_missed_call  calls_count  call_duration  total_call_duration  \n",
       "0            True            2              0                    4  \n",
       "1            True            3              0                    5  \n",
       "2            True            1              0                    1  \n",
       "3           False            1             10                   18  \n",
       "4            True            3              0                   25  \n",
       "5           False            2              3                   29  \n",
       "6            True            8              0                   50  \n",
       "7            True            6              0                   35  \n",
       "8            True            8              0                   50  \n",
       "9            True            4              0                   62  "
      ]
     },
     "execution_count": 2,
     "metadata": {},
     "output_type": "execute_result"
    }
   ],
   "source": [
    "try:\n",
    "    data = pd.read_csv('/datasets/telecom_dataset_us.csv')\n",
    "except:\n",
    "    try:\n",
    "        data = pd.read_csv('../datasets/telecom_dataset_us.csv')\n",
    "    except:\n",
    "        #directly from Yandex's server\n",
    "        data = pd.read_csv('https://code.s3.yandex.net//datasets/telecom_dataset_us.csv') \n",
    "         \n",
    "try:\n",
    "    clients_data = pd.read_csv('/datasets/telecom_clients_us.csv')\n",
    "except:\n",
    "    try:\n",
    "        clients_data = pd.read_csv('../datasets/telecom_clients_us.csv')\n",
    "    except:\n",
    "        #directly from Yandex's server\n",
    "        clients_data = pd.read_csv('https://code.s3.yandex.net//datasets/telecom_clients_us.csv') \n",
    "        \n",
    "#clients_data.head() \n",
    "data.head(10)\n"
   ]
  },
  {
   "cell_type": "markdown",
   "id": "least-favor",
   "metadata": {},
   "source": [
    "Validate data types:"
   ]
  },
  {
   "cell_type": "code",
   "execution_count": 3,
   "id": "patent-wright",
   "metadata": {},
   "outputs": [
    {
     "name": "stdout",
     "output_type": "stream",
     "text": [
      "<class 'pandas.core.frame.DataFrame'>\n",
      "RangeIndex: 53902 entries, 0 to 53901\n",
      "Data columns (total 9 columns):\n",
      " #   Column               Non-Null Count  Dtype  \n",
      "---  ------               --------------  -----  \n",
      " 0   user_id              53902 non-null  int64  \n",
      " 1   date                 53902 non-null  object \n",
      " 2   direction            53902 non-null  object \n",
      " 3   internal             53785 non-null  object \n",
      " 4   operator_id          45730 non-null  float64\n",
      " 5   is_missed_call       53902 non-null  bool   \n",
      " 6   calls_count          53902 non-null  int64  \n",
      " 7   call_duration        53902 non-null  int64  \n",
      " 8   total_call_duration  53902 non-null  int64  \n",
      "dtypes: bool(1), float64(1), int64(4), object(3)\n",
      "memory usage: 3.3+ MB\n"
     ]
    },
    {
     "data": {
      "text/html": [
       "<div>\n",
       "<style scoped>\n",
       "    .dataframe tbody tr th:only-of-type {\n",
       "        vertical-align: middle;\n",
       "    }\n",
       "\n",
       "    .dataframe tbody tr th {\n",
       "        vertical-align: top;\n",
       "    }\n",
       "\n",
       "    .dataframe thead th {\n",
       "        text-align: right;\n",
       "    }\n",
       "</style>\n",
       "<table border=\"1\" class=\"dataframe\">\n",
       "  <thead>\n",
       "    <tr style=\"text-align: right;\">\n",
       "      <th></th>\n",
       "      <th>user_id</th>\n",
       "      <th>date</th>\n",
       "      <th>direction</th>\n",
       "      <th>internal</th>\n",
       "      <th>operator_id</th>\n",
       "      <th>is_missed_call</th>\n",
       "      <th>calls_count</th>\n",
       "      <th>call_duration</th>\n",
       "      <th>total_call_duration</th>\n",
       "    </tr>\n",
       "  </thead>\n",
       "  <tbody>\n",
       "    <tr>\n",
       "      <th>0</th>\n",
       "      <td>166377</td>\n",
       "      <td>2019-08-04 00:00:00+03:00</td>\n",
       "      <td>in</td>\n",
       "      <td>False</td>\n",
       "      <td>NaN</td>\n",
       "      <td>True</td>\n",
       "      <td>2</td>\n",
       "      <td>0</td>\n",
       "      <td>4</td>\n",
       "    </tr>\n",
       "    <tr>\n",
       "      <th>1</th>\n",
       "      <td>166377</td>\n",
       "      <td>2019-08-05 00:00:00+03:00</td>\n",
       "      <td>out</td>\n",
       "      <td>True</td>\n",
       "      <td>880022.0</td>\n",
       "      <td>True</td>\n",
       "      <td>3</td>\n",
       "      <td>0</td>\n",
       "      <td>5</td>\n",
       "    </tr>\n",
       "    <tr>\n",
       "      <th>2</th>\n",
       "      <td>166377</td>\n",
       "      <td>2019-08-05 00:00:00+03:00</td>\n",
       "      <td>out</td>\n",
       "      <td>True</td>\n",
       "      <td>880020.0</td>\n",
       "      <td>True</td>\n",
       "      <td>1</td>\n",
       "      <td>0</td>\n",
       "      <td>1</td>\n",
       "    </tr>\n",
       "    <tr>\n",
       "      <th>3</th>\n",
       "      <td>166377</td>\n",
       "      <td>2019-08-05 00:00:00+03:00</td>\n",
       "      <td>out</td>\n",
       "      <td>True</td>\n",
       "      <td>880020.0</td>\n",
       "      <td>False</td>\n",
       "      <td>1</td>\n",
       "      <td>10</td>\n",
       "      <td>18</td>\n",
       "    </tr>\n",
       "    <tr>\n",
       "      <th>4</th>\n",
       "      <td>166377</td>\n",
       "      <td>2019-08-05 00:00:00+03:00</td>\n",
       "      <td>out</td>\n",
       "      <td>False</td>\n",
       "      <td>880022.0</td>\n",
       "      <td>True</td>\n",
       "      <td>3</td>\n",
       "      <td>0</td>\n",
       "      <td>25</td>\n",
       "    </tr>\n",
       "  </tbody>\n",
       "</table>\n",
       "</div>"
      ],
      "text/plain": [
       "   user_id                      date direction  internal  operator_id  \\\n",
       "0   166377 2019-08-04 00:00:00+03:00        in     False          NaN   \n",
       "1   166377 2019-08-05 00:00:00+03:00       out      True     880022.0   \n",
       "2   166377 2019-08-05 00:00:00+03:00       out      True     880020.0   \n",
       "3   166377 2019-08-05 00:00:00+03:00       out      True     880020.0   \n",
       "4   166377 2019-08-05 00:00:00+03:00       out     False     880022.0   \n",
       "\n",
       "   is_missed_call  calls_count  call_duration  total_call_duration  \n",
       "0            True            2              0                    4  \n",
       "1            True            3              0                    5  \n",
       "2            True            1              0                    1  \n",
       "3           False            1             10                   18  \n",
       "4            True            3              0                   25  "
      ]
     },
     "execution_count": 3,
     "metadata": {},
     "output_type": "execute_result"
    }
   ],
   "source": [
    "data.info()\n",
    "\n",
    "#date, object -> date \n",
    "data['date'] = pd.to_datetime(data['date'], format='%Y-%m-%d %H:%M:%S', errors='ignore')\n",
    "\n",
    "#direction, object -> category\n",
    "data['direction'] = data['direction'].astype('category')\n",
    "\n",
    "#internal, object -> bool\n",
    "data['internal'] = data['internal'].astype('bool')\n",
    "\n",
    "#operator_id, float -> int \n",
    "# data['operator_id'] = data['operator_id'].astype('int')\n",
    "\n",
    "data.head()"
   ]
  },
  {
   "cell_type": "markdown",
   "id": "accepting-humor",
   "metadata": {},
   "source": [
    "operator_id can not be converted due to NALs, let's fix them: "
   ]
  },
  {
   "cell_type": "code",
   "execution_count": 4,
   "id": "baking-product",
   "metadata": {},
   "outputs": [
    {
     "name": "stdout",
     "output_type": "stream",
     "text": [
      "user_id                   0\n",
      "date                      0\n",
      "direction                 0\n",
      "internal                  0\n",
      "operator_id            8172\n",
      "is_missed_call            0\n",
      "calls_count               0\n",
      "call_duration             0\n",
      "total_call_duration       0\n",
      "dtype: int64\n",
      "share of operator nals 15.16%\n"
     ]
    }
   ],
   "source": [
    "print(data.isna().sum())\n",
    "\n",
    "print(\"share of operator nals{: .2f}%\".format(data.operator_id.isna().sum() / len(data.operator_id) * 100))"
   ]
  },
  {
   "cell_type": "markdown",
   "id": "specialized-academy",
   "metadata": {},
   "source": [
    "15% of the operator_id values are missing. On one hand they are crucial to our analysis but on the other, we don't have a way to fill them up.  Hence, with a heavy heart we will have to remove them for this analysis. "
   ]
  },
  {
   "cell_type": "code",
   "execution_count": 5,
   "id": "based-break",
   "metadata": {},
   "outputs": [
    {
     "name": "stdout",
     "output_type": "stream",
     "text": [
      "user_id                0\n",
      "date                   0\n",
      "direction              0\n",
      "internal               0\n",
      "operator_id            0\n",
      "is_missed_call         0\n",
      "calls_count            0\n",
      "call_duration          0\n",
      "total_call_duration    0\n",
      "dtype: int64\n"
     ]
    }
   ],
   "source": [
    "data = data.dropna(subset=['operator_id'])\n",
    "\n",
    "print(data.isna().sum())\n"
   ]
  },
  {
   "cell_type": "markdown",
   "id": "suburban-acoustic",
   "metadata": {},
   "source": [
    "Change data type (as intended before) to int:"
   ]
  },
  {
   "cell_type": "code",
   "execution_count": 6,
   "id": "imported-bernard",
   "metadata": {},
   "outputs": [
    {
     "name": "stdout",
     "output_type": "stream",
     "text": [
      "<class 'pandas.core.frame.DataFrame'>\n",
      "Int64Index: 45730 entries, 1 to 53900\n",
      "Data columns (total 9 columns):\n",
      " #   Column               Non-Null Count  Dtype                                \n",
      "---  ------               --------------  -----                                \n",
      " 0   user_id              45730 non-null  int64                                \n",
      " 1   date                 45730 non-null  datetime64[ns, pytz.FixedOffset(180)]\n",
      " 2   direction            45730 non-null  category                             \n",
      " 3   internal             45730 non-null  bool                                 \n",
      " 4   operator_id          45730 non-null  int64                                \n",
      " 5   is_missed_call       45730 non-null  bool                                 \n",
      " 6   calls_count          45730 non-null  int64                                \n",
      " 7   call_duration        45730 non-null  int64                                \n",
      " 8   total_call_duration  45730 non-null  int64                                \n",
      "dtypes: bool(2), category(1), datetime64[ns, pytz.FixedOffset(180)](1), int64(5)\n",
      "memory usage: 2.6 MB\n"
     ]
    }
   ],
   "source": [
    "#operator_id, float -> int \n",
    "data['operator_id'] = data['operator_id'].astype('int')\n",
    "\n",
    "data.info()"
   ]
  },
  {
   "cell_type": "markdown",
   "id": "funky-steering",
   "metadata": {},
   "source": [
    "check for duplicates: "
   ]
  },
  {
   "cell_type": "code",
   "execution_count": 7,
   "id": "adolescent-albert",
   "metadata": {},
   "outputs": [
    {
     "name": "stdout",
     "output_type": "stream",
     "text": [
      "sum of duplicates 4184\n",
      "       user_id                      date direction  internal  operator_id  \\\n",
      "8       166377 2019-08-05 00:00:00+03:00       out     False       880020   \n",
      "44      166377 2019-08-14 00:00:00+03:00       out     False       880026   \n",
      "51      166377 2019-08-15 00:00:00+03:00       out     False       880026   \n",
      "62      166377 2019-08-19 00:00:00+03:00       out     False       880026   \n",
      "78      166377 2019-08-22 00:00:00+03:00       out     False       880026   \n",
      "...        ...                       ...       ...       ...          ...   \n",
      "53861   168601 2019-11-20 00:00:00+03:00       out     False       952914   \n",
      "53869   168601 2019-11-25 00:00:00+03:00        in     False       952914   \n",
      "53874   168601 2019-11-26 00:00:00+03:00        in     False       952914   \n",
      "53885   168603 2019-11-20 00:00:00+03:00       out     False       959118   \n",
      "53900   168606 2019-11-15 00:00:00+03:00       out      True       957922   \n",
      "\n",
      "       is_missed_call  calls_count  call_duration  total_call_duration  \n",
      "8                True            8              0                   50  \n",
      "44              False           10           1567                 1654  \n",
      "51              False           11           1413                 1473  \n",
      "62              False           14           1519                 1598  \n",
      "78               True            6              0                   55  \n",
      "...               ...          ...            ...                  ...  \n",
      "53861            True            1              0                    2  \n",
      "53869           False            7           1229                 1282  \n",
      "53874           False            4            539                  562  \n",
      "53885            True            3              0                   89  \n",
      "53900           False            4           3130                 3190  \n",
      "\n",
      "[4184 rows x 9 columns]\n"
     ]
    }
   ],
   "source": [
    "print(\"sum of duplicates {}\".format(data.duplicated().sum()))\n",
    "\n",
    "print(data[data.duplicated() == True])\n",
    "\n",
    "data = data.drop_duplicates().reset_index()\n"
   ]
  },
  {
   "cell_type": "markdown",
   "id": "secure-exclusive",
   "metadata": {},
   "source": [
    "column names seem okay. "
   ]
  },
  {
   "cell_type": "markdown",
   "id": "assumed-understanding",
   "metadata": {},
   "source": [
    "### Exploratory data analysis\n",
    "<a id=\"2\"></a>\n",
    "create 'waiting_time' column as 'total_call_duration' minus 'call_duation' "
   ]
  },
  {
   "cell_type": "code",
   "execution_count": 8,
   "id": "latest-helmet",
   "metadata": {},
   "outputs": [
    {
     "data": {
      "text/html": [
       "<div>\n",
       "<style scoped>\n",
       "    .dataframe tbody tr th:only-of-type {\n",
       "        vertical-align: middle;\n",
       "    }\n",
       "\n",
       "    .dataframe tbody tr th {\n",
       "        vertical-align: top;\n",
       "    }\n",
       "\n",
       "    .dataframe thead th {\n",
       "        text-align: right;\n",
       "    }\n",
       "</style>\n",
       "<table border=\"1\" class=\"dataframe\">\n",
       "  <thead>\n",
       "    <tr style=\"text-align: right;\">\n",
       "      <th></th>\n",
       "      <th>index</th>\n",
       "      <th>user_id</th>\n",
       "      <th>date</th>\n",
       "      <th>direction</th>\n",
       "      <th>internal</th>\n",
       "      <th>operator_id</th>\n",
       "      <th>is_missed_call</th>\n",
       "      <th>calls_count</th>\n",
       "      <th>call_duration</th>\n",
       "      <th>total_call_duration</th>\n",
       "      <th>waiting_time</th>\n",
       "    </tr>\n",
       "  </thead>\n",
       "  <tbody>\n",
       "    <tr>\n",
       "      <th>15278</th>\n",
       "      <td>20030</td>\n",
       "      <td>166997</td>\n",
       "      <td>2019-09-26 00:00:00+03:00</td>\n",
       "      <td>in</td>\n",
       "      <td>False</td>\n",
       "      <td>905430</td>\n",
       "      <td>False</td>\n",
       "      <td>3</td>\n",
       "      <td>608</td>\n",
       "      <td>625</td>\n",
       "      <td>17</td>\n",
       "    </tr>\n",
       "    <tr>\n",
       "      <th>1650</th>\n",
       "      <td>2083</td>\n",
       "      <td>166406</td>\n",
       "      <td>2019-10-14 00:00:00+03:00</td>\n",
       "      <td>out</td>\n",
       "      <td>False</td>\n",
       "      <td>879896</td>\n",
       "      <td>True</td>\n",
       "      <td>1</td>\n",
       "      <td>0</td>\n",
       "      <td>2</td>\n",
       "      <td>2</td>\n",
       "    </tr>\n",
       "    <tr>\n",
       "      <th>11387</th>\n",
       "      <td>15045</td>\n",
       "      <td>166884</td>\n",
       "      <td>2019-08-27 00:00:00+03:00</td>\n",
       "      <td>out</td>\n",
       "      <td>False</td>\n",
       "      <td>895776</td>\n",
       "      <td>False</td>\n",
       "      <td>1</td>\n",
       "      <td>93</td>\n",
       "      <td>104</td>\n",
       "      <td>11</td>\n",
       "    </tr>\n",
       "    <tr>\n",
       "      <th>21455</th>\n",
       "      <td>28036</td>\n",
       "      <td>167176</td>\n",
       "      <td>2019-11-11 00:00:00+03:00</td>\n",
       "      <td>out</td>\n",
       "      <td>True</td>\n",
       "      <td>907982</td>\n",
       "      <td>False</td>\n",
       "      <td>6</td>\n",
       "      <td>195</td>\n",
       "      <td>214</td>\n",
       "      <td>19</td>\n",
       "    </tr>\n",
       "    <tr>\n",
       "      <th>39849</th>\n",
       "      <td>51691</td>\n",
       "      <td>168336</td>\n",
       "      <td>2019-11-15 00:00:00+03:00</td>\n",
       "      <td>out</td>\n",
       "      <td>False</td>\n",
       "      <td>958416</td>\n",
       "      <td>False</td>\n",
       "      <td>4</td>\n",
       "      <td>770</td>\n",
       "      <td>805</td>\n",
       "      <td>35</td>\n",
       "    </tr>\n",
       "  </tbody>\n",
       "</table>\n",
       "</div>"
      ],
      "text/plain": [
       "       index  user_id                      date direction  internal  \\\n",
       "15278  20030   166997 2019-09-26 00:00:00+03:00        in     False   \n",
       "1650    2083   166406 2019-10-14 00:00:00+03:00       out     False   \n",
       "11387  15045   166884 2019-08-27 00:00:00+03:00       out     False   \n",
       "21455  28036   167176 2019-11-11 00:00:00+03:00       out      True   \n",
       "39849  51691   168336 2019-11-15 00:00:00+03:00       out     False   \n",
       "\n",
       "       operator_id  is_missed_call  calls_count  call_duration  \\\n",
       "15278       905430           False            3            608   \n",
       "1650        879896            True            1              0   \n",
       "11387       895776           False            1             93   \n",
       "21455       907982           False            6            195   \n",
       "39849       958416           False            4            770   \n",
       "\n",
       "       total_call_duration  waiting_time  \n",
       "15278                  625            17  \n",
       "1650                     2             2  \n",
       "11387                  104            11  \n",
       "21455                  214            19  \n",
       "39849                  805            35  "
      ]
     },
     "execution_count": 8,
     "metadata": {},
     "output_type": "execute_result"
    }
   ],
   "source": [
    "data['waiting_time'] = data['total_call_duration'] - data['call_duration']\n",
    "data.sample(5)"
   ]
  },
  {
   "cell_type": "markdown",
   "id": "proved-overview",
   "metadata": {},
   "source": [
    "Add tables with the 3 following metrics grouped by operator_id:\n",
    "        - count of missed incoming calls\n",
    "        - sum of waiting time for incoming calls\n",
    "        - count of outgoing calls "
   ]
  },
  {
   "cell_type": "code",
   "execution_count": 9,
   "id": "healthy-friend",
   "metadata": {},
   "outputs": [
    {
     "data": {
      "text/html": [
       "<div>\n",
       "<style scoped>\n",
       "    .dataframe tbody tr th:only-of-type {\n",
       "        vertical-align: middle;\n",
       "    }\n",
       "\n",
       "    .dataframe tbody tr th {\n",
       "        vertical-align: top;\n",
       "    }\n",
       "\n",
       "    .dataframe thead th {\n",
       "        text-align: right;\n",
       "    }\n",
       "</style>\n",
       "<table border=\"1\" class=\"dataframe\">\n",
       "  <thead>\n",
       "    <tr style=\"text-align: right;\">\n",
       "      <th></th>\n",
       "      <th>count_of_outgoing</th>\n",
       "    </tr>\n",
       "    <tr>\n",
       "      <th>operator_id</th>\n",
       "      <th></th>\n",
       "    </tr>\n",
       "  </thead>\n",
       "  <tbody>\n",
       "    <tr>\n",
       "      <th>879896</th>\n",
       "      <td>96</td>\n",
       "    </tr>\n",
       "    <tr>\n",
       "      <th>879898</th>\n",
       "      <td>170</td>\n",
       "    </tr>\n",
       "    <tr>\n",
       "      <th>880020</th>\n",
       "      <td>13</td>\n",
       "    </tr>\n",
       "    <tr>\n",
       "      <th>880022</th>\n",
       "      <td>62</td>\n",
       "    </tr>\n",
       "    <tr>\n",
       "      <th>880026</th>\n",
       "      <td>164</td>\n",
       "    </tr>\n",
       "    <tr>\n",
       "      <th>...</th>\n",
       "      <td>...</td>\n",
       "    </tr>\n",
       "    <tr>\n",
       "      <th>972408</th>\n",
       "      <td>2</td>\n",
       "    </tr>\n",
       "    <tr>\n",
       "      <th>972410</th>\n",
       "      <td>4</td>\n",
       "    </tr>\n",
       "    <tr>\n",
       "      <th>972412</th>\n",
       "      <td>4</td>\n",
       "    </tr>\n",
       "    <tr>\n",
       "      <th>972460</th>\n",
       "      <td>6</td>\n",
       "    </tr>\n",
       "    <tr>\n",
       "      <th>973120</th>\n",
       "      <td>2</td>\n",
       "    </tr>\n",
       "  </tbody>\n",
       "</table>\n",
       "<p>882 rows × 1 columns</p>\n",
       "</div>"
      ],
      "text/plain": [
       "             count_of_outgoing\n",
       "operator_id                   \n",
       "879896                      96\n",
       "879898                     170\n",
       "880020                      13\n",
       "880022                      62\n",
       "880026                     164\n",
       "...                        ...\n",
       "972408                       2\n",
       "972410                       4\n",
       "972412                       4\n",
       "972460                       6\n",
       "973120                       2\n",
       "\n",
       "[882 rows x 1 columns]"
      ]
     },
     "execution_count": 9,
     "metadata": {},
     "output_type": "execute_result"
    }
   ],
   "source": [
    "#sum of waiting time & then decided to also check mean since might make more sense\n",
    "operator_pivot = data.pivot_table(index='operator_id', values=['waiting_time'], aggfunc=['sum','mean'])\n",
    "operator_pivot.columns = ['waiting_time_sum','waiting_time_avg']\n",
    "\n",
    "#count of missed incoming calls\n",
    "missed_incoming = data[(data['is_missed_call'] == True) & (data['direction'] == 'in')].groupby('operator_id').agg({'direction': 'count'})\n",
    "missed_incoming.columns = ['count_of_missed_incoming']\n",
    "missed_incoming\n",
    "\n",
    "#count of outgoing calls \n",
    "outgoing_count = data[data['direction'] == 'out'].groupby('operator_id').agg({'direction': 'count'})\n",
    "outgoing_count.columns = ['count_of_outgoing']\n",
    "outgoing_count"
   ]
  },
  {
   "cell_type": "markdown",
   "id": "exterior-hamburg",
   "metadata": {},
   "source": [
    "Added avg. waiting time per call which now seems a bit more practical than 'sum'"
   ]
  },
  {
   "cell_type": "markdown",
   "id": "middle-stanford",
   "metadata": {},
   "source": [
    "merge into one master table:"
   ]
  },
  {
   "cell_type": "code",
   "execution_count": 10,
   "id": "clear-reliance",
   "metadata": {},
   "outputs": [
    {
     "data": {
      "text/html": [
       "<div>\n",
       "<style scoped>\n",
       "    .dataframe tbody tr th:only-of-type {\n",
       "        vertical-align: middle;\n",
       "    }\n",
       "\n",
       "    .dataframe tbody tr th {\n",
       "        vertical-align: top;\n",
       "    }\n",
       "\n",
       "    .dataframe thead th {\n",
       "        text-align: right;\n",
       "    }\n",
       "</style>\n",
       "<table border=\"1\" class=\"dataframe\">\n",
       "  <thead>\n",
       "    <tr style=\"text-align: right;\">\n",
       "      <th></th>\n",
       "      <th>waiting_time_sum</th>\n",
       "      <th>waiting_time_avg</th>\n",
       "      <th>count_of_missed_incoming</th>\n",
       "      <th>count_of_outgoing</th>\n",
       "    </tr>\n",
       "    <tr>\n",
       "      <th>operator_id</th>\n",
       "      <th></th>\n",
       "      <th></th>\n",
       "      <th></th>\n",
       "      <th></th>\n",
       "    </tr>\n",
       "  </thead>\n",
       "  <tbody>\n",
       "    <tr>\n",
       "      <th>882684</th>\n",
       "      <td>19786</td>\n",
       "      <td>128.480519</td>\n",
       "      <td>4</td>\n",
       "      <td>104</td>\n",
       "    </tr>\n",
       "    <tr>\n",
       "      <th>882686</th>\n",
       "      <td>64683</td>\n",
       "      <td>288.763393</td>\n",
       "      <td>5</td>\n",
       "      <td>156</td>\n",
       "    </tr>\n",
       "    <tr>\n",
       "      <th>882690</th>\n",
       "      <td>36651</td>\n",
       "      <td>581.761905</td>\n",
       "      <td>2</td>\n",
       "      <td>41</td>\n",
       "    </tr>\n",
       "    <tr>\n",
       "      <th>884408</th>\n",
       "      <td>1536</td>\n",
       "      <td>61.440000</td>\n",
       "      <td>3</td>\n",
       "      <td>11</td>\n",
       "    </tr>\n",
       "    <tr>\n",
       "      <th>885876</th>\n",
       "      <td>1369284</td>\n",
       "      <td>4838.459364</td>\n",
       "      <td>17</td>\n",
       "      <td>193</td>\n",
       "    </tr>\n",
       "    <tr>\n",
       "      <th>...</th>\n",
       "      <td>...</td>\n",
       "      <td>...</td>\n",
       "      <td>...</td>\n",
       "      <td>...</td>\n",
       "    </tr>\n",
       "    <tr>\n",
       "      <th>959312</th>\n",
       "      <td>1747</td>\n",
       "      <td>58.233333</td>\n",
       "      <td>1</td>\n",
       "      <td>17</td>\n",
       "    </tr>\n",
       "    <tr>\n",
       "      <th>960620</th>\n",
       "      <td>1800</td>\n",
       "      <td>64.285714</td>\n",
       "      <td>1</td>\n",
       "      <td>18</td>\n",
       "    </tr>\n",
       "    <tr>\n",
       "      <th>964510</th>\n",
       "      <td>1631</td>\n",
       "      <td>65.240000</td>\n",
       "      <td>1</td>\n",
       "      <td>19</td>\n",
       "    </tr>\n",
       "    <tr>\n",
       "      <th>964666</th>\n",
       "      <td>19400</td>\n",
       "      <td>881.818182</td>\n",
       "      <td>2</td>\n",
       "      <td>13</td>\n",
       "    </tr>\n",
       "    <tr>\n",
       "      <th>969272</th>\n",
       "      <td>5589</td>\n",
       "      <td>186.300000</td>\n",
       "      <td>1</td>\n",
       "      <td>22</td>\n",
       "    </tr>\n",
       "  </tbody>\n",
       "</table>\n",
       "<p>198 rows × 4 columns</p>\n",
       "</div>"
      ],
      "text/plain": [
       "             waiting_time_sum  waiting_time_avg  count_of_missed_incoming  \\\n",
       "operator_id                                                                 \n",
       "882684                  19786        128.480519                         4   \n",
       "882686                  64683        288.763393                         5   \n",
       "882690                  36651        581.761905                         2   \n",
       "884408                   1536         61.440000                         3   \n",
       "885876                1369284       4838.459364                        17   \n",
       "...                       ...               ...                       ...   \n",
       "959312                   1747         58.233333                         1   \n",
       "960620                   1800         64.285714                         1   \n",
       "964510                   1631         65.240000                         1   \n",
       "964666                  19400        881.818182                         2   \n",
       "969272                   5589        186.300000                         1   \n",
       "\n",
       "             count_of_outgoing  \n",
       "operator_id                     \n",
       "882684                     104  \n",
       "882686                     156  \n",
       "882690                      41  \n",
       "884408                      11  \n",
       "885876                     193  \n",
       "...                        ...  \n",
       "959312                      17  \n",
       "960620                      18  \n",
       "964510                      19  \n",
       "964666                      13  \n",
       "969272                      22  \n",
       "\n",
       "[198 rows x 4 columns]"
      ]
     },
     "execution_count": 10,
     "metadata": {},
     "output_type": "execute_result"
    }
   ],
   "source": [
    "operator_pivot = operator_pivot.merge(missed_incoming,on='operator_id') \n",
    "operator_pivot = operator_pivot.merge(outgoing_count,on='operator_id') \n",
    "operator_pivot"
   ]
  },
  {
   "cell_type": "markdown",
   "id": "fallen-blast",
   "metadata": {},
   "source": [
    "plot histograms for all 3 metrics "
   ]
  },
  {
   "cell_type": "code",
   "execution_count": 11,
   "id": "noted-multimedia",
   "metadata": {},
   "outputs": [
    {
     "data": {
      "image/png": "[encoded data removed]",
      "text/plain": [
       "<Figure size 432x288 with 1 Axes>"
      ]
     },
     "metadata": {
      "needs_background": "light"
     },
     "output_type": "display_data"
    },
    {
     "data": {
      "image/png": "[encoded data removed]",
      "text/plain": [
       "<Figure size 432x288 with 1 Axes>"
      ]
     },
     "metadata": {
      "needs_background": "light"
     },
     "output_type": "display_data"
    },
    {
     "data": {
      "image/png": "[encoded data removed]",
      "text/plain": [
       "<Figure size 432x288 with 1 Axes>"
      ]
     },
     "metadata": {
      "needs_background": "light"
     },
     "output_type": "display_data"
    },
    {
     "data": {
      "image/png": "[encoded data removed]",
      "text/plain": [
       "<Figure size 432x288 with 1 Axes>"
      ]
     },
     "metadata": {
      "needs_background": "light"
     },
     "output_type": "display_data"
    }
   ],
   "source": [
    "operator_pivot.hist('waiting_time_sum', bins=70)\n",
    "plt.xlabel('total waiting time')\n",
    "plt.ylabel('count')\n",
    "plt.show()\n",
    "\n",
    "operator_pivot.hist('waiting_time_avg', bins=70)\n",
    "plt.xlabel('avg. waiting time')\n",
    "plt.ylabel('count')\n",
    "plt.show()\n",
    "\n",
    "operator_pivot.hist('count_of_missed_incoming', bins=50)\n",
    "plt.xlabel('missed incoming calls')\n",
    "plt.ylabel('count')\n",
    "plt.show()\n",
    "\n",
    "operator_pivot.hist('count_of_outgoing', bins=50)\n",
    "plt.xlabel('outgoing calls')\n",
    "plt.ylabel('count')\n",
    "plt.show()"
   ]
  },
  {
   "cell_type": "markdown",
   "id": "decent-pasta",
   "metadata": {},
   "source": [
    "calculate 75th, 90th and 95th precentiles for each of the metrics:"
   ]
  },
  {
   "cell_type": "code",
   "execution_count": 12,
   "id": "pleased-gross",
   "metadata": {},
   "outputs": [
    {
     "name": "stdout",
     "output_type": "stream",
     "text": [
      "Waiting time sum percentiles: [21633.  38548.8 55085.9]\n",
      "Waiting time avg percentiles: [218.7 377.9 522.3]\n",
      "Count of missed incoming percentiles: [ 3.  8. 11.]\n",
      "Count of outgoing percentiles: [ 76.  133.2 162.2]\n"
     ]
    }
   ],
   "source": [
    "print(\"Waiting time sum percentiles: {}\".format(np.percentile(operator_pivot['waiting_time_sum'], [75, 90, 95])))\n",
    "\n",
    "print(\"Waiting time avg percentiles: {}\".format(np.percentile(operator_pivot['waiting_time_avg'], [75, 90, 95]).round(1)))\n",
    "\n",
    "print(\"Count of missed incoming percentiles: {}\".format(np.percentile(operator_pivot['count_of_missed_incoming'], [75, 90, 95])))\n",
    "\n",
    "print(\"Count of outgoing percentiles: {}\".format(np.percentile(operator_pivot['count_of_outgoing'], [75, 90, 95])))\n"
   ]
  },
  {
   "cell_type": "markdown",
   "id": "grand-moscow",
   "metadata": {},
   "source": [
    "Based on the histograms and percentiles, looks like we might want to exclude some outliers. Let's see how it will look like visually:"
   ]
  },
  {
   "cell_type": "code",
   "execution_count": 13,
   "id": "saving-agent",
   "metadata": {},
   "outputs": [
    {
     "data": {
      "image/png": "[encoded data removed]",
      "text/plain": [
       "<Figure size 432x288 with 1 Axes>"
      ]
     },
     "metadata": {
      "needs_background": "light"
     },
     "output_type": "display_data"
    },
    {
     "data": {
      "image/png": "[encoded data removed]",
      "text/plain": [
       "<Figure size 432x288 with 1 Axes>"
      ]
     },
     "metadata": {
      "needs_background": "light"
     },
     "output_type": "display_data"
    },
    {
     "data": {
      "image/png": "[encoded data removed]",
      "text/plain": [
       "<Figure size 432x288 with 1 Axes>"
      ]
     },
     "metadata": {
      "needs_background": "light"
     },
     "output_type": "display_data"
    },
    {
     "data": {
      "image/png": "[encoded data removed]",
      "text/plain": [
       "<Figure size 432x288 with 1 Axes>"
      ]
     },
     "metadata": {
      "needs_background": "light"
     },
     "output_type": "display_data"
    }
   ],
   "source": [
    "operator_pivot.hist('waiting_time_sum', bins=25, range=(0, np.percentile(operator_pivot['waiting_time_sum'], 90)))\n",
    "plt.xlabel('total waiting time')\n",
    "plt.ylabel('count')\n",
    "plt.show()\n",
    "\n",
    "operator_pivot.hist('waiting_time_avg', bins=50, range=(0, np.percentile(operator_pivot['waiting_time_avg'], 90)))\n",
    "plt.xlabel('avg. waiting time')\n",
    "plt.ylabel('count')\n",
    "plt.show()\n",
    "\n",
    "operator_pivot.hist('count_of_missed_incoming', bins=10, range=(0, np.percentile(operator_pivot['count_of_missed_incoming'], 90)))\n",
    "plt.xlabel('missed incoming calls')\n",
    "plt.ylabel('count')\n",
    "plt.show()\n",
    "\n",
    "operator_pivot.hist('count_of_outgoing', bins=30, range=(0, np.percentile(operator_pivot['count_of_outgoing'], 90)))\n",
    "plt.xlabel('outgoing calls')\n",
    "plt.ylabel('count')\n",
    "plt.show()"
   ]
  },
  {
   "cell_type": "markdown",
   "id": "funny-muslim",
   "metadata": {},
   "source": [
    "After some thought process, while it looks like there are anomalies that skew our metrics and EDA, I decide not to remove them based on the assumption that those are exactly those we want to detect and identify as ineffective. "
   ]
  },
  {
   "cell_type": "markdown",
   "id": "nervous-constitution",
   "metadata": {},
   "source": [
    "### Identify ineffective operators\n",
    "<a id=\"3\"></a>\n",
    "define a methodology to rank / bin the operators score for each of the metrics as a 1-100 score so that the higher the score the worst the operator is doing in the specific metric. <i> e.g. in the third metric it is more confusing than the others, since the lower the amount of calls the worse the operator is (for those that are supposed to make outgoing calls). In case the operator is not supposed to make such calls, we will avg. them only based on the two first metrics. </i>"
   ]
  },
  {
   "cell_type": "code",
   "execution_count": 14,
   "id": "centered-halifax",
   "metadata": {},
   "outputs": [
    {
     "data": {
      "text/html": [
       "<div>\n",
       "<style scoped>\n",
       "    .dataframe tbody tr th:only-of-type {\n",
       "        vertical-align: middle;\n",
       "    }\n",
       "\n",
       "    .dataframe tbody tr th {\n",
       "        vertical-align: top;\n",
       "    }\n",
       "\n",
       "    .dataframe thead th {\n",
       "        text-align: right;\n",
       "    }\n",
       "</style>\n",
       "<table border=\"1\" class=\"dataframe\">\n",
       "  <thead>\n",
       "    <tr style=\"text-align: right;\">\n",
       "      <th></th>\n",
       "      <th>waiting_time_sum</th>\n",
       "      <th>waiting_time_avg</th>\n",
       "      <th>count_of_missed_incoming</th>\n",
       "      <th>count_of_outgoing</th>\n",
       "      <th>outgoing_count_score</th>\n",
       "      <th>avg_waiting_time_score</th>\n",
       "      <th>missed_incoming_score</th>\n",
       "    </tr>\n",
       "    <tr>\n",
       "      <th>operator_id</th>\n",
       "      <th></th>\n",
       "      <th></th>\n",
       "      <th></th>\n",
       "      <th></th>\n",
       "      <th></th>\n",
       "      <th></th>\n",
       "      <th></th>\n",
       "    </tr>\n",
       "  </thead>\n",
       "  <tbody>\n",
       "    <tr>\n",
       "      <th>905862</th>\n",
       "      <td>1165</td>\n",
       "      <td>30.657895</td>\n",
       "      <td>3</td>\n",
       "      <td>1</td>\n",
       "      <td>100.00</td>\n",
       "      <td>0.53</td>\n",
       "      <td>10.71</td>\n",
       "    </tr>\n",
       "    <tr>\n",
       "      <th>904344</th>\n",
       "      <td>63</td>\n",
       "      <td>21.000000</td>\n",
       "      <td>1</td>\n",
       "      <td>1</td>\n",
       "      <td>100.00</td>\n",
       "      <td>0.36</td>\n",
       "      <td>3.57</td>\n",
       "    </tr>\n",
       "    <tr>\n",
       "      <th>914440</th>\n",
       "      <td>575</td>\n",
       "      <td>28.750000</td>\n",
       "      <td>1</td>\n",
       "      <td>1</td>\n",
       "      <td>100.00</td>\n",
       "      <td>0.50</td>\n",
       "      <td>3.57</td>\n",
       "    </tr>\n",
       "    <tr>\n",
       "      <th>919206</th>\n",
       "      <td>7389</td>\n",
       "      <td>369.450000</td>\n",
       "      <td>7</td>\n",
       "      <td>1</td>\n",
       "      <td>100.00</td>\n",
       "      <td>6.36</td>\n",
       "      <td>25.00</td>\n",
       "    </tr>\n",
       "    <tr>\n",
       "      <th>937956</th>\n",
       "      <td>1029</td>\n",
       "      <td>17.150000</td>\n",
       "      <td>8</td>\n",
       "      <td>1</td>\n",
       "      <td>100.00</td>\n",
       "      <td>0.30</td>\n",
       "      <td>28.57</td>\n",
       "    </tr>\n",
       "    <tr>\n",
       "      <th>...</th>\n",
       "      <td>...</td>\n",
       "      <td>...</td>\n",
       "      <td>...</td>\n",
       "      <td>...</td>\n",
       "      <td>...</td>\n",
       "      <td>...</td>\n",
       "      <td>...</td>\n",
       "    </tr>\n",
       "    <tr>\n",
       "      <th>891410</th>\n",
       "      <td>33579</td>\n",
       "      <td>128.655172</td>\n",
       "      <td>2</td>\n",
       "      <td>191</td>\n",
       "      <td>16.30</td>\n",
       "      <td>2.22</td>\n",
       "      <td>7.14</td>\n",
       "    </tr>\n",
       "    <tr>\n",
       "      <th>885876</th>\n",
       "      <td>1369284</td>\n",
       "      <td>4838.459364</td>\n",
       "      <td>17</td>\n",
       "      <td>193</td>\n",
       "      <td>15.42</td>\n",
       "      <td>83.35</td>\n",
       "      <td>60.71</td>\n",
       "    </tr>\n",
       "    <tr>\n",
       "      <th>901880</th>\n",
       "      <td>50377</td>\n",
       "      <td>166.811258</td>\n",
       "      <td>10</td>\n",
       "      <td>194</td>\n",
       "      <td>14.98</td>\n",
       "      <td>2.87</td>\n",
       "      <td>35.71</td>\n",
       "    </tr>\n",
       "    <tr>\n",
       "      <th>887276</th>\n",
       "      <td>25309</td>\n",
       "      <td>94.790262</td>\n",
       "      <td>3</td>\n",
       "      <td>198</td>\n",
       "      <td>13.22</td>\n",
       "      <td>1.63</td>\n",
       "      <td>10.71</td>\n",
       "    </tr>\n",
       "    <tr>\n",
       "      <th>901884</th>\n",
       "      <td>38994</td>\n",
       "      <td>120.724458</td>\n",
       "      <td>1</td>\n",
       "      <td>228</td>\n",
       "      <td>0.00</td>\n",
       "      <td>2.08</td>\n",
       "      <td>3.57</td>\n",
       "    </tr>\n",
       "  </tbody>\n",
       "</table>\n",
       "<p>198 rows × 7 columns</p>\n",
       "</div>"
      ],
      "text/plain": [
       "             waiting_time_sum  waiting_time_avg  count_of_missed_incoming  \\\n",
       "operator_id                                                                 \n",
       "905862                   1165         30.657895                         3   \n",
       "904344                     63         21.000000                         1   \n",
       "914440                    575         28.750000                         1   \n",
       "919206                   7389        369.450000                         7   \n",
       "937956                   1029         17.150000                         8   \n",
       "...                       ...               ...                       ...   \n",
       "891410                  33579        128.655172                         2   \n",
       "885876                1369284       4838.459364                        17   \n",
       "901880                  50377        166.811258                        10   \n",
       "887276                  25309         94.790262                         3   \n",
       "901884                  38994        120.724458                         1   \n",
       "\n",
       "             count_of_outgoing  outgoing_count_score  avg_waiting_time_score  \\\n",
       "operator_id                                                                    \n",
       "905862                       1                100.00                    0.53   \n",
       "904344                       1                100.00                    0.36   \n",
       "914440                       1                100.00                    0.50   \n",
       "919206                       1                100.00                    6.36   \n",
       "937956                       1                100.00                    0.30   \n",
       "...                        ...                   ...                     ...   \n",
       "891410                     191                 16.30                    2.22   \n",
       "885876                     193                 15.42                   83.35   \n",
       "901880                     194                 14.98                    2.87   \n",
       "887276                     198                 13.22                    1.63   \n",
       "901884                     228                  0.00                    2.08   \n",
       "\n",
       "             missed_incoming_score  \n",
       "operator_id                         \n",
       "905862                       10.71  \n",
       "904344                        3.57  \n",
       "914440                        3.57  \n",
       "919206                       25.00  \n",
       "937956                       28.57  \n",
       "...                            ...  \n",
       "891410                        7.14  \n",
       "885876                       60.71  \n",
       "901880                       35.71  \n",
       "887276                       10.71  \n",
       "901884                        3.57  \n",
       "\n",
       "[198 rows x 7 columns]"
      ]
     },
     "execution_count": 14,
     "metadata": {},
     "output_type": "execute_result"
    }
   ],
   "source": [
    "#opposite scale for the outgoing which is worse if the number is lower\n",
    "OldRange = (operator_pivot['count_of_outgoing'].max() - operator_pivot['count_of_outgoing'].min())  \n",
    "NewRange = (100 - 0)  \n",
    "operator_pivot['outgoing_count_score'] = (((operator_pivot['count_of_outgoing'] - operator_pivot['count_of_outgoing'].min()) * NewRange * -1) / OldRange).round(2) + 100\n",
    "\n",
    "#normal 1-100 scale\n",
    "operator_pivot['avg_waiting_time_score'] = (operator_pivot['waiting_time_avg']*100/operator_pivot['waiting_time_avg'].max()).round(2)\n",
    "operator_pivot['missed_incoming_score'] = (operator_pivot['count_of_missed_incoming']*100/operator_pivot['count_of_missed_incoming'].max()).round(2)\n",
    "\n",
    "\n",
    "operator_pivot.sort_values('count_of_outgoing', ascending=True)"
   ]
  },
  {
   "cell_type": "markdown",
   "id": "olympic-forest",
   "metadata": {},
   "source": [
    "plot 3 histograms to see how many operators fall within each rank (1-100) of the metrics we defined:"
   ]
  },
  {
   "cell_type": "code",
   "execution_count": 15,
   "id": "mobile-enemy",
   "metadata": {
    "scrolled": true
   },
   "outputs": [
    {
     "data": {
      "image/png": "[encoded data removed]",
      "text/plain": [
       "<Figure size 432x288 with 1 Axes>"
      ]
     },
     "metadata": {
      "needs_background": "light"
     },
     "output_type": "display_data"
    },
    {
     "data": {
      "image/png": "[encoded data removed]",
      "text/plain": [
       "<Figure size 432x288 with 1 Axes>"
      ]
     },
     "metadata": {
      "needs_background": "light"
     },
     "output_type": "display_data"
    },
    {
     "data": {
      "image/png": "[encoded data removed]",
      "text/plain": [
       "<Figure size 432x288 with 1 Axes>"
      ]
     },
     "metadata": {
      "needs_background": "light"
     },
     "output_type": "display_data"
    }
   ],
   "source": [
    "operator_pivot.hist('outgoing_count_score', bins=10)\n",
    "plt.xlabel('outgoing calls count (1-100)')\n",
    "plt.ylabel('count')\n",
    "plt.show()\n",
    "\n",
    "operator_pivot.hist('avg_waiting_time_score', bins=10)\n",
    "plt.xlabel('avg waiting time score (1-100)')\n",
    "plt.ylabel('count')\n",
    "plt.show()\n",
    "\n",
    "operator_pivot.hist('missed_incoming_score', bins=10)\n",
    "plt.xlabel('missed incoming calls score (1-100)')\n",
    "plt.ylabel('count')\n",
    "plt.show()"
   ]
  },
  {
   "cell_type": "markdown",
   "id": "orange-editor",
   "metadata": {},
   "source": [
    "The metric scores look fine apart from the outgoing one which is a bit concerning, since many operators fall within the 75+ score and have low amount of calls. However, this should be sufficient in case we use an average of the three metrics. \n",
    "\n",
    "Let's calculate the average of each operator for the three metrics:  "
   ]
  },
  {
   "cell_type": "code",
   "execution_count": 16,
   "id": "frozen-belgium",
   "metadata": {},
   "outputs": [
    {
     "data": {
      "image/png": "[encoded data removed]",
      "text/plain": [
       "<Figure size 432x288 with 1 Axes>"
      ]
     },
     "metadata": {
      "needs_background": "light"
     },
     "output_type": "display_data"
    },
    {
     "data": {
      "text/html": [
       "<div>\n",
       "<style scoped>\n",
       "    .dataframe tbody tr th:only-of-type {\n",
       "        vertical-align: middle;\n",
       "    }\n",
       "\n",
       "    .dataframe tbody tr th {\n",
       "        vertical-align: top;\n",
       "    }\n",
       "\n",
       "    .dataframe thead th {\n",
       "        text-align: right;\n",
       "    }\n",
       "</style>\n",
       "<table border=\"1\" class=\"dataframe\">\n",
       "  <thead>\n",
       "    <tr style=\"text-align: right;\">\n",
       "      <th></th>\n",
       "      <th>waiting_time_sum</th>\n",
       "      <th>waiting_time_avg</th>\n",
       "      <th>count_of_missed_incoming</th>\n",
       "      <th>count_of_outgoing</th>\n",
       "      <th>outgoing_count_score</th>\n",
       "      <th>avg_waiting_time_score</th>\n",
       "      <th>missed_incoming_score</th>\n",
       "      <th>efficiency_score</th>\n",
       "    </tr>\n",
       "    <tr>\n",
       "      <th>operator_id</th>\n",
       "      <th></th>\n",
       "      <th></th>\n",
       "      <th></th>\n",
       "      <th></th>\n",
       "      <th></th>\n",
       "      <th></th>\n",
       "      <th></th>\n",
       "      <th></th>\n",
       "    </tr>\n",
       "  </thead>\n",
       "  <tbody>\n",
       "    <tr>\n",
       "      <th>925922</th>\n",
       "      <td>423767</td>\n",
       "      <td>5805.027397</td>\n",
       "      <td>8</td>\n",
       "      <td>46</td>\n",
       "      <td>80.18</td>\n",
       "      <td>100.00</td>\n",
       "      <td>28.57</td>\n",
       "      <td>69.583333</td>\n",
       "    </tr>\n",
       "    <tr>\n",
       "      <th>885890</th>\n",
       "      <td>1443002</td>\n",
       "      <td>5703.565217</td>\n",
       "      <td>21</td>\n",
       "      <td>159</td>\n",
       "      <td>30.40</td>\n",
       "      <td>98.25</td>\n",
       "      <td>75.00</td>\n",
       "      <td>67.883333</td>\n",
       "    </tr>\n",
       "    <tr>\n",
       "      <th>913942</th>\n",
       "      <td>38198</td>\n",
       "      <td>282.948148</td>\n",
       "      <td>28</td>\n",
       "      <td>50</td>\n",
       "      <td>78.41</td>\n",
       "      <td>4.87</td>\n",
       "      <td>100.00</td>\n",
       "      <td>61.093333</td>\n",
       "    </tr>\n",
       "    <tr>\n",
       "      <th>885876</th>\n",
       "      <td>1369284</td>\n",
       "      <td>4838.459364</td>\n",
       "      <td>17</td>\n",
       "      <td>193</td>\n",
       "      <td>15.42</td>\n",
       "      <td>83.35</td>\n",
       "      <td>60.71</td>\n",
       "      <td>53.160000</td>\n",
       "    </tr>\n",
       "    <tr>\n",
       "      <th>940588</th>\n",
       "      <td>7663</td>\n",
       "      <td>112.691176</td>\n",
       "      <td>15</td>\n",
       "      <td>16</td>\n",
       "      <td>93.39</td>\n",
       "      <td>1.94</td>\n",
       "      <td>53.57</td>\n",
       "      <td>49.633333</td>\n",
       "    </tr>\n",
       "    <tr>\n",
       "      <th>919554</th>\n",
       "      <td>38358</td>\n",
       "      <td>456.642857</td>\n",
       "      <td>11</td>\n",
       "      <td>8</td>\n",
       "      <td>96.92</td>\n",
       "      <td>7.87</td>\n",
       "      <td>39.29</td>\n",
       "      <td>48.026667</td>\n",
       "    </tr>\n",
       "    <tr>\n",
       "      <th>944216</th>\n",
       "      <td>10443</td>\n",
       "      <td>117.337079</td>\n",
       "      <td>16</td>\n",
       "      <td>37</td>\n",
       "      <td>84.14</td>\n",
       "      <td>2.02</td>\n",
       "      <td>57.14</td>\n",
       "      <td>47.766667</td>\n",
       "    </tr>\n",
       "    <tr>\n",
       "      <th>940630</th>\n",
       "      <td>10046</td>\n",
       "      <td>164.688525</td>\n",
       "      <td>11</td>\n",
       "      <td>12</td>\n",
       "      <td>95.15</td>\n",
       "      <td>2.84</td>\n",
       "      <td>39.29</td>\n",
       "      <td>45.760000</td>\n",
       "    </tr>\n",
       "    <tr>\n",
       "      <th>944226</th>\n",
       "      <td>9397</td>\n",
       "      <td>106.784091</td>\n",
       "      <td>14</td>\n",
       "      <td>38</td>\n",
       "      <td>83.70</td>\n",
       "      <td>1.84</td>\n",
       "      <td>50.00</td>\n",
       "      <td>45.180000</td>\n",
       "    </tr>\n",
       "    <tr>\n",
       "      <th>919206</th>\n",
       "      <td>7389</td>\n",
       "      <td>369.450000</td>\n",
       "      <td>7</td>\n",
       "      <td>1</td>\n",
       "      <td>100.00</td>\n",
       "      <td>6.36</td>\n",
       "      <td>25.00</td>\n",
       "      <td>43.786667</td>\n",
       "    </tr>\n",
       "    <tr>\n",
       "      <th>937956</th>\n",
       "      <td>1029</td>\n",
       "      <td>17.150000</td>\n",
       "      <td>8</td>\n",
       "      <td>1</td>\n",
       "      <td>100.00</td>\n",
       "      <td>0.30</td>\n",
       "      <td>28.57</td>\n",
       "      <td>42.956667</td>\n",
       "    </tr>\n",
       "    <tr>\n",
       "      <th>940622</th>\n",
       "      <td>18021</td>\n",
       "      <td>305.440678</td>\n",
       "      <td>10</td>\n",
       "      <td>31</td>\n",
       "      <td>86.78</td>\n",
       "      <td>5.26</td>\n",
       "      <td>35.71</td>\n",
       "      <td>42.583333</td>\n",
       "    </tr>\n",
       "    <tr>\n",
       "      <th>944218</th>\n",
       "      <td>11065</td>\n",
       "      <td>122.944444</td>\n",
       "      <td>11</td>\n",
       "      <td>42</td>\n",
       "      <td>81.94</td>\n",
       "      <td>2.12</td>\n",
       "      <td>39.29</td>\n",
       "      <td>41.116667</td>\n",
       "    </tr>\n",
       "    <tr>\n",
       "      <th>919204</th>\n",
       "      <td>9457</td>\n",
       "      <td>394.041667</td>\n",
       "      <td>5</td>\n",
       "      <td>7</td>\n",
       "      <td>97.36</td>\n",
       "      <td>6.79</td>\n",
       "      <td>17.86</td>\n",
       "      <td>40.670000</td>\n",
       "    </tr>\n",
       "    <tr>\n",
       "      <th>913938</th>\n",
       "      <td>50150</td>\n",
       "      <td>338.851351</td>\n",
       "      <td>13</td>\n",
       "      <td>71</td>\n",
       "      <td>69.16</td>\n",
       "      <td>5.84</td>\n",
       "      <td>46.43</td>\n",
       "      <td>40.476667</td>\n",
       "    </tr>\n",
       "    <tr>\n",
       "      <th>944220</th>\n",
       "      <td>13581</td>\n",
       "      <td>128.122642</td>\n",
       "      <td>12</td>\n",
       "      <td>55</td>\n",
       "      <td>76.21</td>\n",
       "      <td>2.21</td>\n",
       "      <td>42.86</td>\n",
       "      <td>40.426667</td>\n",
       "    </tr>\n",
       "    <tr>\n",
       "      <th>940652</th>\n",
       "      <td>20736</td>\n",
       "      <td>377.018182</td>\n",
       "      <td>7</td>\n",
       "      <td>27</td>\n",
       "      <td>88.55</td>\n",
       "      <td>6.49</td>\n",
       "      <td>25.00</td>\n",
       "      <td>40.013333</td>\n",
       "    </tr>\n",
       "    <tr>\n",
       "      <th>951508</th>\n",
       "      <td>7985</td>\n",
       "      <td>106.466667</td>\n",
       "      <td>10</td>\n",
       "      <td>42</td>\n",
       "      <td>81.94</td>\n",
       "      <td>1.83</td>\n",
       "      <td>35.71</td>\n",
       "      <td>39.826667</td>\n",
       "    </tr>\n",
       "    <tr>\n",
       "      <th>944222</th>\n",
       "      <td>11400</td>\n",
       "      <td>118.750000</td>\n",
       "      <td>11</td>\n",
       "      <td>51</td>\n",
       "      <td>77.97</td>\n",
       "      <td>2.05</td>\n",
       "      <td>39.29</td>\n",
       "      <td>39.770000</td>\n",
       "    </tr>\n",
       "    <tr>\n",
       "      <th>964666</th>\n",
       "      <td>19400</td>\n",
       "      <td>881.818182</td>\n",
       "      <td>2</td>\n",
       "      <td>13</td>\n",
       "      <td>94.71</td>\n",
       "      <td>15.19</td>\n",
       "      <td>7.14</td>\n",
       "      <td>39.013333</td>\n",
       "    </tr>\n",
       "  </tbody>\n",
       "</table>\n",
       "</div>"
      ],
      "text/plain": [
       "             waiting_time_sum  waiting_time_avg  count_of_missed_incoming  \\\n",
       "operator_id                                                                 \n",
       "925922                 423767       5805.027397                         8   \n",
       "885890                1443002       5703.565217                        21   \n",
       "913942                  38198        282.948148                        28   \n",
       "885876                1369284       4838.459364                        17   \n",
       "940588                   7663        112.691176                        15   \n",
       "919554                  38358        456.642857                        11   \n",
       "944216                  10443        117.337079                        16   \n",
       "940630                  10046        164.688525                        11   \n",
       "944226                   9397        106.784091                        14   \n",
       "919206                   7389        369.450000                         7   \n",
       "937956                   1029         17.150000                         8   \n",
       "940622                  18021        305.440678                        10   \n",
       "944218                  11065        122.944444                        11   \n",
       "919204                   9457        394.041667                         5   \n",
       "913938                  50150        338.851351                        13   \n",
       "944220                  13581        128.122642                        12   \n",
       "940652                  20736        377.018182                         7   \n",
       "951508                   7985        106.466667                        10   \n",
       "944222                  11400        118.750000                        11   \n",
       "964666                  19400        881.818182                         2   \n",
       "\n",
       "             count_of_outgoing  outgoing_count_score  avg_waiting_time_score  \\\n",
       "operator_id                                                                    \n",
       "925922                      46                 80.18                  100.00   \n",
       "885890                     159                 30.40                   98.25   \n",
       "913942                      50                 78.41                    4.87   \n",
       "885876                     193                 15.42                   83.35   \n",
       "940588                      16                 93.39                    1.94   \n",
       "919554                       8                 96.92                    7.87   \n",
       "944216                      37                 84.14                    2.02   \n",
       "940630                      12                 95.15                    2.84   \n",
       "944226                      38                 83.70                    1.84   \n",
       "919206                       1                100.00                    6.36   \n",
       "937956                       1                100.00                    0.30   \n",
       "940622                      31                 86.78                    5.26   \n",
       "944218                      42                 81.94                    2.12   \n",
       "919204                       7                 97.36                    6.79   \n",
       "913938                      71                 69.16                    5.84   \n",
       "944220                      55                 76.21                    2.21   \n",
       "940652                      27                 88.55                    6.49   \n",
       "951508                      42                 81.94                    1.83   \n",
       "944222                      51                 77.97                    2.05   \n",
       "964666                      13                 94.71                   15.19   \n",
       "\n",
       "             missed_incoming_score  efficiency_score  \n",
       "operator_id                                           \n",
       "925922                       28.57         69.583333  \n",
       "885890                       75.00         67.883333  \n",
       "913942                      100.00         61.093333  \n",
       "885876                       60.71         53.160000  \n",
       "940588                       53.57         49.633333  \n",
       "919554                       39.29         48.026667  \n",
       "944216                       57.14         47.766667  \n",
       "940630                       39.29         45.760000  \n",
       "944226                       50.00         45.180000  \n",
       "919206                       25.00         43.786667  \n",
       "937956                       28.57         42.956667  \n",
       "940622                       35.71         42.583333  \n",
       "944218                       39.29         41.116667  \n",
       "919204                       17.86         40.670000  \n",
       "913938                       46.43         40.476667  \n",
       "944220                       42.86         40.426667  \n",
       "940652                       25.00         40.013333  \n",
       "951508                       35.71         39.826667  \n",
       "944222                       39.29         39.770000  \n",
       "964666                        7.14         39.013333  "
      ]
     },
     "execution_count": 16,
     "metadata": {},
     "output_type": "execute_result"
    }
   ],
   "source": [
    "\n",
    "\n",
    "operator_pivot['efficiency_score'] =  operator_pivot[['outgoing_count_score', 'avg_waiting_time_score', 'missed_incoming_score']].mean(axis=1)\n",
    "\n",
    "operator_pivot.hist('efficiency_score', bins=10)\n",
    "plt.xlabel('efficiency score (1-100)')\n",
    "plt.ylabel('count')\n",
    "plt.show()\n",
    "\n",
    "#operator_pivot[operator_pivot['efficiency_score'] > 60]\n",
    "\n",
    "operator_pivot.sort_values('efficiency_score', ascending=False).head(20)"
   ]
  },
  {
   "cell_type": "markdown",
   "id": "exterior-christmas",
   "metadata": {},
   "source": [
    "    - add a column of is_ineffective and set to true all operators with avg. above the agreed upon threshold"
   ]
  },
  {
   "cell_type": "code",
   "execution_count": 18,
   "id": "rising-rover",
   "metadata": {},
   "outputs": [
    {
     "name": "stdout",
     "output_type": "stream",
     "text": [
      "Count of efficiency_score percentiles: [34.01833333 38.50233333 43.08116667]\n",
      "[38.50233333]\n"
     ]
    }
   ],
   "source": [
    "print(\"Count of efficiency_score percentiles: {}\".format(np.percentile(operator_pivot['efficiency_score'], [75, 90, 95])))\n",
    "\n",
    "thres = np.percentile(operator_pivot['efficiency_score'], [90])\n",
    "\n",
    "operator_pivot['is_ineffective'] = operator_pivot['efficiency_score'].apply(lambda x: True if x>thres else False)"
   ]
  },
  {
   "cell_type": "code",
   "execution_count": 19,
   "id": "invisible-activity",
   "metadata": {},
   "outputs": [],
   "source": [
    "operator_pivot"
   ]
  },
  {
   "cell_type": "markdown",
   "id": "together-undergraduate",
   "metadata": {},
   "source": [
    "### Test statistical hypotheses\n",
    "<a id=\"4\"></a>\n"
   ]
  },
  {
   "cell_type": "markdown",
   "id": "religious-thanks",
   "metadata": {},
   "source": [
    "#### Average outgoing call duration between both plans is the same\n",
    "* <b> Null hypotheses: </b> Average outgoing call duration of tarrif plans A, B & C  are  <u> similar. </u>\n",
    "* <b> Alternative hypotheses: </b> Average outgoing call duration of tarrif plans A, B & C  are <u> differs. </u> \n",
    "\n",
    "Merge tariff plan into data:"
   ]
  },
  {
   "cell_type": "code",
   "execution_count": 34,
   "id": "encouraging-church",
   "metadata": {},
   "outputs": [],
   "source": [
    "merged = data.merge(clients_data, on='user_id', how='inner').reset_index(drop=True)"
   ]
  },
  {
   "cell_type": "markdown",
   "id": "israeli-boutique",
   "metadata": {},
   "source": [
    "Create segmented data:"
   ]
  },
  {
   "cell_type": "code",
   "execution_count": 41,
   "id": "qualified-symphony",
   "metadata": {},
   "outputs": [],
   "source": [
    "tariff_a = merged[(merged.tariff_plan == 'A')&(merged.direction == 'out')]['call_duration']\n",
    "tariff_b = merged[(merged.tariff_plan == 'B')&(merged.direction == 'out')]['call_duration']\n",
    "tariff_c = merged[(merged.tariff_plan == 'C')&(merged.direction == 'out')]['call_duration']"
   ]
  },
  {
   "cell_type": "markdown",
   "id": "convertible-trader",
   "metadata": {},
   "source": [
    "Start with a levene test (α=0.05) to see whether we have equal variance condition for the t-test:"
   ]
  },
  {
   "cell_type": "code",
   "execution_count": 45,
   "id": "parallel-paste",
   "metadata": {},
   "outputs": [
    {
     "name": "stdout",
     "output_type": "stream",
     "text": [
      "A&B: LeveneResult(statistic=864.8530050904122, pvalue=6.001348028221442e-186)\n",
      "A&C: LeveneResult(statistic=764.3822796995113, pvalue=6.622508353670863e-165)\n",
      "C&B: LeveneResult(statistic=13.762715502325923, pvalue=0.00020797194121756273)\n"
     ]
    }
   ],
   "source": [
    "from scipy import stats as st\n",
    "print (\"A&B:\",st.levene(tariff_a, tariff_b, center='mean'))\n",
    "print (\"A&C:\",st.levene(tariff_a, tariff_c, center='mean'))\n",
    "print (\"C&B:\",st.levene(tariff_c, tariff_b, center='mean'))"
   ]
  },
  {
   "cell_type": "markdown",
   "id": "maritime-shopping",
   "metadata": {},
   "source": [
    "For the pair C&B - the p-value of the test is less than the threshold value of 0.05 and hence, we reject the null hypothesis and conclude that the sample groups do not have equal variance (and we will specify equal_var==False)"
   ]
  },
  {
   "cell_type": "code",
   "execution_count": 47,
   "id": "saved-alabama",
   "metadata": {},
   "outputs": [
    {
     "name": "stdout",
     "output_type": "stream",
     "text": [
      "A&B p-value:  5.886792134711496e-65\n",
      "We reject the null hypothesis\n"
     ]
    }
   ],
   "source": [
    "alpha = .05 # critical statistical significance level\n",
    "                        # if the p-value is less than alpha, we reject the hypothesis\n",
    "\n",
    "results = st.ttest_ind(\n",
    "        tariff_a, \n",
    "        tariff_b,equal_var = True)\n",
    "\n",
    "print('A&B p-value: ', results.pvalue)\n",
    "\n",
    "if (results.pvalue < alpha):\n",
    "        print(\"We reject the null hypothesis\")\n",
    "else:\n",
    "        print(\"We can't reject the null hypothesis\") "
   ]
  },
  {
   "cell_type": "code",
   "execution_count": 48,
   "id": "grateful-surname",
   "metadata": {},
   "outputs": [
    {
     "name": "stdout",
     "output_type": "stream",
     "text": [
      "A&C p-value:  3.164111666853293e-58\n",
      "We reject the null hypothesis\n"
     ]
    }
   ],
   "source": [
    "alpha = .05 # critical statistical significance level\n",
    "                        # if the p-value is less than alpha, we reject the hypothesis\n",
    "\n",
    "results = st.ttest_ind(\n",
    "        tariff_a, \n",
    "        tariff_c,equal_var = True)\n",
    "\n",
    "print('A&C p-value: ', results.pvalue)\n",
    "\n",
    "if (results.pvalue < alpha):\n",
    "        print(\"We reject the null hypothesis\")\n",
    "else:\n",
    "        print(\"We can't reject the null hypothesis\") "
   ]
  },
  {
   "cell_type": "code",
   "execution_count": 46,
   "id": "induced-burton",
   "metadata": {},
   "outputs": [
    {
     "name": "stdout",
     "output_type": "stream",
     "text": [
      "C&B p-value:  0.12360639064872214\n",
      "We can't reject the null hypothesis\n"
     ]
    }
   ],
   "source": [
    "alpha = .05 # critical statistical significance level\n",
    "                        # if the p-value is less than alpha, we reject the hypothesis\n",
    "\n",
    "results = st.ttest_ind(\n",
    "        tariff_c, \n",
    "        tariff_b,equal_var = False)\n",
    "\n",
    "print('C&B p-value: ', results.pvalue)\n",
    "\n",
    "if (results.pvalue < alpha):\n",
    "        print(\"We reject the null hypothesis\")\n",
    "else:\n",
    "        print(\"We can't reject the null hypothesis\") "
   ]
  },
  {
   "cell_type": "markdown",
   "id": "sixth-samoa",
   "metadata": {},
   "source": [
    "We can't reject the null hypothesis that the average outgoing call duration for tariff plans C&B  are similar. Therefore, with confidence of 95% (alpha of 5% is strong enough and most commonly used for business purposes like we deal with in this analysis) conclude that they are similar. \n",
    "\n",
    "In regards to the pairs A&B and A&C - we do reject the null hypothesis that the average outgoing call duration for the two tariff plans is similar. Hence, with confidence of 95% (alpha of 5% is strong enough and most commonly used for business purposes like we deal with in this analysis) conclude that average outgoing call duration for the pairs A&B and A&C is different.  "
   ]
  },
  {
   "cell_type": "markdown",
   "id": "passive-perth",
   "metadata": {},
   "source": [
    "### Conclusion\n",
    "<a id=\"5\"></a>\n",
    "\n",
    "To sum it up, after a few tweaks we were able to create a formula and methodology to identify ineffective operators. While we decide to define the worst 10% as ineffective, this could easily be changed subjust to feedback from our supervisors. Also, given the fact we do not have details about the different plans, it is evident that the avg. outgoing call duration (which is usually a variable with a very strong correlation to revenue for telecom operators) differs for plan A compared to the two other tariff plans - B&C. However, with B&C, our data does not support that the avg. outgoing call duration is different. \n",
    "\n",
    "\n"
   ]
  },
  {
   "cell_type": "markdown",
   "id": "pharmaceutical-record",
   "metadata": {},
   "source": [
    "### Others\n",
    "<a id=\"5\"></a>\n",
    "Useful readings: "
   ]
  },
  {
   "cell_type": "markdown",
   "id": "adapted-civilization",
   "metadata": {},
   "source": [
    "- double-checked about creating the is_efficient parameter - https://datatofish.com/if-condition-in-pandas-dataframe/\n",
    "- reset_index documentation, critical and also improves readability in many cases -https://pandas.pydata.org/docs/reference/api/pandas.DataFrame.reset_index.html \n",
    "- refresher of pivot with multiple functions - https://towardsdatascience.com/pivot-tables-cross-tabulation-data-aggregation-tools-in-python-dd6791dbe3cd\n",
    "- numpy precentile function documentation - https://numpy.org/doc/stable/reference/generated/numpy.percentile.html\n",
    "- stack overflow thread discussing how to create the 1-100 scale (used it to create the opposite formula) - https://stackoverflow.com/questions/929103/convert-a-number-range-to-another-range-maintaining-ratio\n",
    "- lambda refresher - https://realpython.com/python-lambda/#:~:text=A%20Python%20lambda%20function%20behaves,function%20in%20regard%20to%20arguments.&text=The%20Python%20lambda%20function%20could,n%20set%20at%20definition%20time."
   ]
  }
 ],
 "metadata": {
  "kernelspec": {
   "display_name": "Python 3",
   "language": "python",
   "name": "python3"
  },
  "language_info": {
   "codemirror_mode": {
    "name": "ipython",
    "version": 3
   },
   "file_extension": ".py",
   "mimetype": "text/x-python",
   "name": "python",
   "nbconvert_exporter": "python",
   "pygments_lexer": "ipython3",
   "version": "3.8.8"
  }
 },
 "nbformat": 4,
 "nbformat_minor": 5
}

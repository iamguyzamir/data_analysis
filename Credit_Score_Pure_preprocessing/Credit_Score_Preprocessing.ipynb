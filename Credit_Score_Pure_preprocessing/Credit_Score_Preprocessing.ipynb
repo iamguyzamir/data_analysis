{
 "cells": [
  {
   "cell_type": "markdown",
   "metadata": {},
   "source": [
    "## Analyzing borrowers’ risk of defaulting\n",
    "\n",
    "The project is to prepare a simple report for a bank’s loan division. We will find out if a customer’s marital status and number of children has an impact on whether they will default on a loan. We will use existing data that the bank already has in regards to customers’ credit worthiness."
   ]
  },
  {
   "cell_type": "markdown",
   "metadata": {},
   "source": [
    "### Open the data file and have a look at the general information. "
   ]
  },
  {
   "cell_type": "code",
   "execution_count": 1,
   "metadata": {},
   "outputs": [
    {
     "name": "stdout",
     "output_type": "stream",
     "text": [
      "<class 'pandas.core.frame.DataFrame'>\n",
      "RangeIndex: 21525 entries, 0 to 21524\n",
      "Data columns (total 12 columns):\n",
      " #   Column            Non-Null Count  Dtype  \n",
      "---  ------            --------------  -----  \n",
      " 0   children          21525 non-null  int64  \n",
      " 1   days_employed     19351 non-null  float64\n",
      " 2   dob_years         21525 non-null  int64  \n",
      " 3   education         21525 non-null  object \n",
      " 4   education_id      21525 non-null  int64  \n",
      " 5   family_status     21525 non-null  object \n",
      " 6   family_status_id  21525 non-null  int64  \n",
      " 7   gender            21525 non-null  object \n",
      " 8   income_type       21525 non-null  object \n",
      " 9   debt              21525 non-null  int64  \n",
      " 10  total_income      19351 non-null  float64\n",
      " 11  purpose           21525 non-null  object \n",
      "dtypes: float64(2), int64(5), object(5)\n",
      "memory usage: 2.0+ MB\n",
      "       children  days_employed  dob_years            education  education_id  \\\n",
      "2692          1    -131.876565         40  secondary education             1   \n",
      "2702          2    -424.959618         28  secondary education             1   \n",
      "11298         0  345640.870894         52    bachelor's degree             0   \n",
      "16764         0  344869.477614         56    Bachelor's Degree             0   \n",
      "3929          0    -622.798160         39  secondary education             1   \n",
      "18001         1   -2538.122378         30    bachelor's degree             0   \n",
      "11789         0    -317.428257         48    Bachelor's Degree             0   \n",
      "9025          2    -185.478825         31  secondary education             1   \n",
      "21121         0    -267.244296         45  secondary education             1   \n",
      "99            0  346541.618895          0  Secondary Education             1   \n",
      "8429          1   -2510.694486         25    bachelor's degree             0   \n",
      "12941         0            NaN         61  secondary education             1   \n",
      "15768         2    -869.953833         36  secondary education             1   \n",
      "10193         0   -1373.755279         41  secondary education             1   \n",
      "15209         0   -3118.594175         62    Bachelor's Degree             0   \n",
      "\n",
      "           family_status  family_status_id gender    income_type  debt  \\\n",
      "2692   civil partnership                 1      M       employee     0   \n",
      "2702             married                 0      F       employee     1   \n",
      "11298    widow / widower                 2      F        retiree     0   \n",
      "16764            married                 0      M        retiree     0   \n",
      "3929   civil partnership                 1      M       employee     0   \n",
      "18001            married                 0      F  civil servant     0   \n",
      "11789          unmarried                 4      F       employee     0   \n",
      "9025             married                 0      M       business     0   \n",
      "21121            married                 0      M       employee     0   \n",
      "99               married                 0      F        retiree     0   \n",
      "8429             married                 0      F  civil servant     0   \n",
      "12941          unmarried                 4      F       employee     0   \n",
      "15768            married                 0      F       employee     0   \n",
      "10193  civil partnership                 1      M  civil servant     0   \n",
      "15209          unmarried                 4      F       employee     0   \n",
      "\n",
      "       total_income                           purpose  \n",
      "2692      23655.611                  having a wedding  \n",
      "2702      17065.405          purchase of my own house  \n",
      "11298     15700.876  to get a supplementary education  \n",
      "16764     17498.690               going to university  \n",
      "3929      61903.256              getting an education  \n",
      "18001     17799.694  transactions with my real estate  \n",
      "11789     40395.080      construction of own property  \n",
      "9025      25269.893             purchase of the house  \n",
      "21121     11059.764        buy commercial real estate  \n",
      "99        11406.644                               car  \n",
      "8429      12515.537          real estate transactions  \n",
      "12941           NaN          second-hand car purchase  \n",
      "15768      9757.902                 buying my own car  \n",
      "10193     16564.135               building a property  \n",
      "15209     27948.720          getting higher education  \n"
     ]
    }
   ],
   "source": [
    "import pandas as pd \n",
    "data = pd.read_csv('credit_scoring_eng.csv')\n",
    "data.info()\n",
    "#print (data.head(15))\n",
    "print (data.sample(15))"
   ]
  },
  {
   "cell_type": "markdown",
   "metadata": {},
   "source": [
    "## Conclusion"
   ]
  },
  {
   "cell_type": "markdown",
   "metadata": {},
   "source": [
    "- Variable types look fine \n",
    "\n",
    "## Observations: \n",
    "- **days_employed**, why do we have a value which is positive while all the rest are negative? how come?\n",
    "- **eduction**, looks like some capitalization differences between values e.g. Secondary Education, secondary education & SECONDARY EDUCATION. Also, BACHELOR'S DEGREE & bachelor's degree.\n",
    "- **total_income**, observe a NaN for a retiree, do we want to keep it as is?\n",
    "- **debt** variable of whether a customer defaulted on a loan is okay but why not more qualititive? are all defaulters the same? \n",
    "- **purpose** a lot of non unique category value such as: 'buying my own car', 'purchase of a car', 'to own a car' or 'cars'"
   ]
  },
  {
   "cell_type": "markdown",
   "metadata": {},
   "source": [
    "### Data preprocessing"
   ]
  },
  {
   "cell_type": "markdown",
   "metadata": {},
   "source": [
    "### Processing missing values"
   ]
  },
  {
   "cell_type": "code",
   "execution_count": 3,
   "metadata": {},
   "outputs": [
    {
     "name": "stdout",
     "output_type": "stream",
     "text": [
      "children               0\n",
      "days_employed       2174\n",
      "dob_years              0\n",
      "education              0\n",
      "education_id           0\n",
      "family_status          0\n",
      "family_status_id       0\n",
      "gender                 0\n",
      "income_type            0\n",
      "debt                   0\n",
      "total_income        2174\n",
      "purpose                0\n",
      "dtype: int64\n"
     ]
    }
   ],
   "source": [
    "nulls = data.isnull().sum()\n",
    "\n",
    "print (nulls)\n",
    "# 'days_employed' & 'total_income' have nulls, why?\n",
    "\n",
    "\n",
    "\n",
    "\n"
   ]
  },
  {
   "cell_type": "code",
   "execution_count": 4,
   "metadata": {},
   "outputs": [
    {
     "name": "stdout",
     "output_type": "stream",
     "text": [
      "       children  days_employed  dob_years            education  education_id  \\\n",
      "12            0            NaN         65  secondary education             1   \n",
      "26            0            NaN         41  secondary education             1   \n",
      "29            0            NaN         63  secondary education             1   \n",
      "41            0            NaN         50  secondary education             1   \n",
      "55            0            NaN         54  secondary education             1   \n",
      "...         ...            ...        ...                  ...           ...   \n",
      "21489         2            NaN         47  Secondary Education             1   \n",
      "21495         1            NaN         50  secondary education             1   \n",
      "21497         0            NaN         48    BACHELOR'S DEGREE             0   \n",
      "21502         1            NaN         42  secondary education             1   \n",
      "21510         2            NaN         28  secondary education             1   \n",
      "\n",
      "           family_status  family_status_id gender    income_type  debt  \\\n",
      "12     civil partnership                 1      M        retiree     0   \n",
      "26               married                 0      M  civil servant     0   \n",
      "29             unmarried                 4      F        retiree     0   \n",
      "41               married                 0      F  civil servant     0   \n",
      "55     civil partnership                 1      F        retiree     1   \n",
      "...                  ...               ...    ...            ...   ...   \n",
      "21489            married                 0      M       business     0   \n",
      "21495  civil partnership                 1      F       employee     0   \n",
      "21497            married                 0      F       business     0   \n",
      "21502            married                 0      F       employee     0   \n",
      "21510            married                 0      F       employee     0   \n",
      "\n",
      "       total_income                   purpose  \n",
      "12              NaN         to have a wedding  \n",
      "26              NaN                 education  \n",
      "29              NaN    building a real estate  \n",
      "41              NaN  second-hand car purchase  \n",
      "55              NaN         to have a wedding  \n",
      "...             ...                       ...  \n",
      "21489           NaN         purchase of a car  \n",
      "21495           NaN          wedding ceremony  \n",
      "21497           NaN       building a property  \n",
      "21502           NaN    building a real estate  \n",
      "21510           NaN              car purchase  \n",
      "\n",
      "[2174 rows x 12 columns]\n"
     ]
    }
   ],
   "source": [
    "\n",
    "print(data[data['days_employed'].isnull()])\n",
    "\n",
    "# do not observe a pattern such as all unemployes equals retiree.\n",
    "#'income_type' is not exclusively business / retiree but also 'employee'\n"
   ]
  },
  {
   "cell_type": "code",
   "execution_count": 5,
   "metadata": {},
   "outputs": [
    {
     "name": "stdout",
     "output_type": "stream",
     "text": [
      "       children  days_employed  dob_years            education  education_id  \\\n",
      "12            0            NaN         65  secondary education             1   \n",
      "26            0            NaN         41  secondary education             1   \n",
      "29            0            NaN         63  secondary education             1   \n",
      "41            0            NaN         50  secondary education             1   \n",
      "55            0            NaN         54  secondary education             1   \n",
      "...         ...            ...        ...                  ...           ...   \n",
      "21489         2            NaN         47  Secondary Education             1   \n",
      "21495         1            NaN         50  secondary education             1   \n",
      "21497         0            NaN         48    BACHELOR'S DEGREE             0   \n",
      "21502         1            NaN         42  secondary education             1   \n",
      "21510         2            NaN         28  secondary education             1   \n",
      "\n",
      "           family_status  family_status_id gender    income_type  debt  \\\n",
      "12     civil partnership                 1      M        retiree     0   \n",
      "26               married                 0      M  civil servant     0   \n",
      "29             unmarried                 4      F        retiree     0   \n",
      "41               married                 0      F  civil servant     0   \n",
      "55     civil partnership                 1      F        retiree     1   \n",
      "...                  ...               ...    ...            ...   ...   \n",
      "21489            married                 0      M       business     0   \n",
      "21495  civil partnership                 1      F       employee     0   \n",
      "21497            married                 0      F       business     0   \n",
      "21502            married                 0      F       employee     0   \n",
      "21510            married                 0      F       employee     0   \n",
      "\n",
      "       total_income                   purpose  \n",
      "12              NaN         to have a wedding  \n",
      "26              NaN                 education  \n",
      "29              NaN    building a real estate  \n",
      "41              NaN  second-hand car purchase  \n",
      "55              NaN         to have a wedding  \n",
      "...             ...                       ...  \n",
      "21489           NaN         purchase of a car  \n",
      "21495           NaN          wedding ceremony  \n",
      "21497           NaN       building a property  \n",
      "21502           NaN    building a real estate  \n",
      "21510           NaN              car purchase  \n",
      "\n",
      "[2174 rows x 12 columns]\n"
     ]
    }
   ],
   "source": [
    "print(data[data['total_income'].isnull()])\n",
    "\n",
    "# no different pattern apart from the fact it looks like it matches with the 'days_employed' (as well as the number of nullS)"
   ]
  },
  {
   "cell_type": "code",
   "execution_count": 6,
   "metadata": {},
   "outputs": [
    {
     "name": "stdout",
     "output_type": "stream",
     "text": [
      "employee                       10014\n",
      "business                        4577\n",
      "retiree                         3443\n",
      "other                           2174\n",
      "civil servant                   1312\n",
      "unemployed                         2\n",
      "student                            1\n",
      "paternity / maternity leave        1\n",
      "entrepreneur                       1\n",
      "Name: income_type, dtype: int64\n",
      "       children  days_employed  dob_years            education  education_id  \\\n",
      "12            0            NaN         65  secondary education             1   \n",
      "26            0            NaN         41  secondary education             1   \n",
      "29            0            NaN         63  secondary education             1   \n",
      "41            0            NaN         50  secondary education             1   \n",
      "55            0            NaN         54  secondary education             1   \n",
      "...         ...            ...        ...                  ...           ...   \n",
      "21489         2            NaN         47  Secondary Education             1   \n",
      "21495         1            NaN         50  secondary education             1   \n",
      "21497         0            NaN         48    BACHELOR'S DEGREE             0   \n",
      "21502         1            NaN         42  secondary education             1   \n",
      "21510         2            NaN         28  secondary education             1   \n",
      "\n",
      "           family_status  family_status_id gender income_type  debt  \\\n",
      "12     civil partnership                 1      M       other     0   \n",
      "26               married                 0      M       other     0   \n",
      "29             unmarried                 4      F       other     0   \n",
      "41               married                 0      F       other     0   \n",
      "55     civil partnership                 1      F       other     1   \n",
      "...                  ...               ...    ...         ...   ...   \n",
      "21489            married                 0      M       other     0   \n",
      "21495  civil partnership                 1      F       other     0   \n",
      "21497            married                 0      F       other     0   \n",
      "21502            married                 0      F       other     0   \n",
      "21510            married                 0      F       other     0   \n",
      "\n",
      "       total_income                   purpose  \n",
      "12              NaN         to have a wedding  \n",
      "26              NaN                 education  \n",
      "29              NaN    building a real estate  \n",
      "41              NaN  second-hand car purchase  \n",
      "55              NaN         to have a wedding  \n",
      "...             ...                       ...  \n",
      "21489           NaN         purchase of a car  \n",
      "21495           NaN          wedding ceremony  \n",
      "21497           NaN       building a property  \n",
      "21502           NaN    building a real estate  \n",
      "21510           NaN              car purchase  \n",
      "\n",
      "[2174 rows x 12 columns]\n"
     ]
    }
   ],
   "source": [
    "#switch income_type of nulls to 'other' in order not to let the missing values ruin the averages later on\n",
    "\n",
    "data.loc[data['total_income'].isnull(),'income_type'] = 'other'\n",
    "print (data['income_type'].value_counts())\n",
    "\n",
    "print(data[data['days_employed'].isnull()])"
   ]
  },
  {
   "cell_type": "code",
   "execution_count": 7,
   "metadata": {},
   "outputs": [],
   "source": [
    "#fill nulls with 0 so we can work with the data\n",
    "data['days_employed'] = data['days_employed'].fillna(0)\n",
    "data['total_income'] = data['total_income'].fillna(0)"
   ]
  },
  {
   "cell_type": "code",
   "execution_count": 8,
   "metadata": {},
   "outputs": [
    {
     "name": "stdout",
     "output_type": "stream",
     "text": [
      "children            0\n",
      "days_employed       0\n",
      "dob_years           0\n",
      "education           0\n",
      "education_id        0\n",
      "family_status       0\n",
      "family_status_id    0\n",
      "gender              0\n",
      "income_type         0\n",
      "debt                0\n",
      "total_income        0\n",
      "purpose             0\n",
      "dtype: int64\n"
     ]
    }
   ],
   "source": [
    "#test\n",
    "print (data.isnull().sum())\n"
   ]
  },
  {
   "cell_type": "code",
   "execution_count": 9,
   "metadata": {},
   "outputs": [
    {
     "name": "stdout",
     "output_type": "stream",
     "text": [
      "count    21525.000000\n",
      "mean        43.293380\n",
      "std         12.574584\n",
      "min          0.000000\n",
      "25%         33.000000\n",
      "50%         42.000000\n",
      "75%         53.000000\n",
      "max         75.000000\n",
      "Name: dob_years, dtype: float64\n",
      "Empty DataFrame\n",
      "Columns: [children, days_employed, dob_years, education, education_id, family_status, family_status_id, gender, income_type, debt, total_income, purpose]\n",
      "Index: []\n",
      "       children  days_employed  dob_years            education  education_id  \\\n",
      "99            0  346541.618895          0  Secondary Education             1   \n",
      "149           0   -2664.273168          0  secondary education             1   \n",
      "270           3   -1872.663186          0  secondary education             1   \n",
      "578           0  397856.565013          0  secondary education             1   \n",
      "1040          0   -1158.029561          0    bachelor's degree             0   \n",
      "...         ...            ...        ...                  ...           ...   \n",
      "19829         0       0.000000          0  secondary education             1   \n",
      "20462         0  338734.868540          0  secondary education             1   \n",
      "20577         0  331741.271455          0  secondary education             1   \n",
      "21179         2    -108.967042          0    bachelor's degree             0   \n",
      "21313         0   -1268.487728          0  secondary education             1   \n",
      "\n",
      "      family_status  family_status_id gender income_type  debt  total_income  \\\n",
      "99          married                 0      F     retiree     0     11406.644   \n",
      "149        divorced                 3      F    employee     0     11228.230   \n",
      "270         married                 0      F    employee     0     16346.633   \n",
      "578         married                 0      F     retiree     0     15619.310   \n",
      "1040       divorced                 3      F    business     0     48639.062   \n",
      "...             ...               ...    ...         ...   ...           ...   \n",
      "19829       married                 0      F       other     0         0.000   \n",
      "20462       married                 0      F     retiree     0     41471.027   \n",
      "20577     unmarried                 4      F     retiree     0     20766.202   \n",
      "21179       married                 0      M    business     0     38512.321   \n",
      "21313     unmarried                 4      M    employee     0     24387.070   \n",
      "\n",
      "                            purpose  \n",
      "99                              car  \n",
      "149            housing transactions  \n",
      "270              housing renovation  \n",
      "578    construction of own property  \n",
      "1040                   to own a car  \n",
      "...                             ...  \n",
      "19829                       housing  \n",
      "20462      purchase of my own house  \n",
      "20577                      property  \n",
      "21179        building a real estate  \n",
      "21313          housing transactions  \n",
      "\n",
      "[101 rows x 12 columns]\n"
     ]
    }
   ],
   "source": [
    "print (data['dob_years'].describe())\n",
    "\n",
    "#looks like we have some year values which are 'zero' based on 'Min'\n",
    "\n",
    "print(data[(data['dob_years'] < 15) & (data['dob_years'] > 1)])\n",
    "\n",
    "#no values which are above it, so it's not \"wrong\" values but actually missing values\n",
    "#those values below could be replaced, it's not critical since we do not plan to use them further anyways this time\n",
    "#the ideal way would be to replace with random values based on the distribution of the correct data\n",
    "#that being said, a mean value is a simpler approach that will also make an improvement from current situation of 0's\n",
    "#and is more than enough for our specific analysis\n",
    "\n",
    "print(data[data['dob_years'] == 0])\n"
   ]
  },
  {
   "cell_type": "code",
   "execution_count": 10,
   "metadata": {},
   "outputs": [
    {
     "name": "stdout",
     "output_type": "stream",
     "text": [
      "count    21525.000000\n",
      "mean        43.496522\n",
      "std         12.218174\n",
      "min         19.000000\n",
      "25%         34.000000\n",
      "50%         43.000000\n",
      "75%         53.000000\n",
      "max         75.000000\n",
      "Name: dob_years, dtype: float64\n"
     ]
    }
   ],
   "source": [
    "#replacing values with mean:\n",
    "\n",
    "data.loc[data['dob_years'] == 0,'dob_years'] = data['dob_years'].mean()\n",
    "\n",
    "#check that min values has changed:\n",
    "\n",
    "print (data['dob_years'].describe())"
   ]
  },
  {
   "cell_type": "code",
   "execution_count": 11,
   "metadata": {},
   "outputs": [
    {
     "name": "stdout",
     "output_type": "stream",
     "text": [
      "count    21525.000000\n",
      "mean         0.538908\n",
      "std          1.381587\n",
      "min         -1.000000\n",
      "25%          0.000000\n",
      "50%          0.000000\n",
      "75%          1.000000\n",
      "max         20.000000\n",
      "Name: children, dtype: float64\n",
      "       children  days_employed  dob_years            education  education_id  \\\n",
      "291          -1   -4417.703588       46.0  secondary education             1   \n",
      "705          -1    -902.084528       50.0  secondary education             1   \n",
      "742          -1   -3174.456205       57.0  secondary education             1   \n",
      "800          -1  349987.852217       54.0  secondary education             1   \n",
      "941          -1       0.000000       57.0  Secondary Education             1   \n",
      "1363         -1   -1195.264956       55.0  SECONDARY EDUCATION             1   \n",
      "1929         -1   -1461.303336       38.0  secondary education             1   \n",
      "2073         -1   -2539.761232       42.0  secondary education             1   \n",
      "3814         -1   -3045.290443       26.0  Secondary Education             1   \n",
      "4201         -1    -901.101738       41.0  secondary education             1   \n",
      "4402         -1  398001.302888       64.0  SECONDARY EDUCATION             1   \n",
      "4542         -1   -1811.899756       32.0  secondary education             1   \n",
      "5272         -1   -1143.485347       46.0  secondary education             1   \n",
      "6013         -1   -1361.258696       46.0    bachelor's degree             0   \n",
      "6385         -1  370215.476226       48.0  secondary education             1   \n",
      "7190         -1   -5928.202068       34.0  SECONDARY EDUCATION             1   \n",
      "7278         -1    -526.318451       51.0  secondary education             1   \n",
      "7615         -1       0.000000       35.0  secondary education             1   \n",
      "7685         -1   -3237.360455       53.0  secondary education             1   \n",
      "8229         -1   -1803.441074       54.0    bachelor's degree             0   \n",
      "8251         -1   -3113.998449       31.0  secondary education             1   \n",
      "8561         -1    -195.479496       31.0  secondary education             1   \n",
      "9565         -1   -2896.629686       34.0    bachelor's degree             0   \n",
      "9574         -1   -2710.419901       28.0    bachelor's degree             0   \n",
      "10177        -1   -1743.604011       37.0  secondary education             1   \n",
      "10365        -1  345774.125957       63.0    BACHELOR'S DEGREE             0   \n",
      "10918        -1  340499.039342       50.0  secondary education             1   \n",
      "11109        -1   -3438.463024       59.0  secondary education             1   \n",
      "11268        -1   -1048.782203       30.0    bachelor's degree             0   \n",
      "11617        -1    -370.827130       27.0  secondary education             1   \n",
      "12304        -1   -8493.101252       61.0         some college             2   \n",
      "13786        -1       0.000000       42.0  secondary education             1   \n",
      "14357        -1    -268.337037       23.0  secondary education             1   \n",
      "15147        -1   -9851.184337       44.0  secondary education             1   \n",
      "15435        -1   -3614.220232       40.0    bachelor's degree             0   \n",
      "16129        -1    -457.861760       33.0  secondary education             1   \n",
      "16265        -1   -2802.218127       40.0    bachelor's degree             0   \n",
      "17095        -1   -2809.693200       34.0  secondary education             1   \n",
      "17429        -1    -895.379738       37.0  secondary education             1   \n",
      "17657        -1   -4571.957475       41.0  secondary education             1   \n",
      "18219        -1   -3575.215641       33.0  secondary education             1   \n",
      "19100        -1    -617.246968       38.0  secondary education             1   \n",
      "19366        -1    -372.034749       43.0  SECONDARY EDUCATION             1   \n",
      "19417        -1  350340.760224       28.0  secondary education             1   \n",
      "20393        -1  355157.107212       69.0  secondary education             1   \n",
      "20717        -1    -661.822321       32.0    bachelor's degree             0   \n",
      "21140        -1   -1422.668059       44.0  secondary education             1   \n",
      "\n",
      "           family_status  family_status_id gender    income_type  debt  \\\n",
      "291    civil partnership                 1      F       employee     0   \n",
      "705              married                 0      F  civil servant     0   \n",
      "742              married                 0      F       employee     0   \n",
      "800            unmarried                 4      F        retiree     0   \n",
      "941              married                 0      F          other     0   \n",
      "1363             married                 0      F       business     0   \n",
      "1929           unmarried                 4      M       employee     0   \n",
      "2073            divorced                 3      F       business     0   \n",
      "3814   civil partnership                 1      F  civil servant     0   \n",
      "4201             married                 0      F  civil servant     0   \n",
      "4402             married                 0      F        retiree     0   \n",
      "4542             married                 0      F       employee     0   \n",
      "5272     widow / widower                 2      F       employee     0   \n",
      "6013             married                 0      F       employee     0   \n",
      "6385     widow / widower                 2      F        retiree     0   \n",
      "7190             married                 0      M       employee     0   \n",
      "7278             married                 0      F       employee     0   \n",
      "7615             married                 0      M          other     0   \n",
      "7685     widow / widower                 2      F       employee     0   \n",
      "8229             married                 0      F       business     0   \n",
      "8251   civil partnership                 1      F       employee     0   \n",
      "8561             married                 0      F       employee     0   \n",
      "9565             married                 0      M       employee     0   \n",
      "9574             married                 0      M  civil servant     0   \n",
      "10177            married                 0      M       employee     0   \n",
      "10365    widow / widower                 2      F        retiree     0   \n",
      "10918            married                 0      M        retiree     0   \n",
      "11109            married                 0      F       employee     0   \n",
      "11268  civil partnership                 1      F       business     0   \n",
      "11617            married                 0      F       business     0   \n",
      "12304            married                 0      M       employee     0   \n",
      "13786          unmarried                 4      M          other     0   \n",
      "14357           divorced                 3      F       business     0   \n",
      "15147           divorced                 3      F       employee     0   \n",
      "15435  civil partnership                 1      F       employee     0   \n",
      "16129            married                 0      F       employee     1   \n",
      "16265            married                 0      M       employee     0   \n",
      "17095            married                 0      F       employee     0   \n",
      "17429            married                 0      F       business     0   \n",
      "17657            married                 0      F       employee     0   \n",
      "18219            married                 0      F       employee     0   \n",
      "19100          unmarried                 4      M       employee     0   \n",
      "19366            married                 0      M       employee     0   \n",
      "19417           divorced                 3      F        retiree     0   \n",
      "20393          unmarried                 4      F        retiree     0   \n",
      "20717            married                 0      F       employee     0   \n",
      "21140            married                 0      F       business     0   \n",
      "\n",
      "       total_income                                   purpose  \n",
      "291       16450.615                         profile education  \n",
      "705       22061.264                              car purchase  \n",
      "742       10282.887                   supplementary education  \n",
      "800       13806.996                   supplementary education  \n",
      "941           0.000                         buying my own car  \n",
      "1363      11128.112                         profile education  \n",
      "1929      17459.451                     purchase of the house  \n",
      "2073      26022.177                     purchase of the house  \n",
      "3814      21102.846                          having a wedding  \n",
      "4201      36220.123          transactions with my real estate  \n",
      "4402      26122.250                           buy real estate  \n",
      "4542      25687.155                                 education  \n",
      "5272      44593.283                           buy real estate  \n",
      "6013      22881.353              construction of own property  \n",
      "6385       5768.392                                 education  \n",
      "7190      29490.420                              car purchase  \n",
      "7278      23508.603  transactions with commercial real estate  \n",
      "7615          0.000                                 education  \n",
      "7685      25548.188                    building a real estate  \n",
      "8229      22209.453                           buy real estate  \n",
      "8251       8705.929                              to own a car  \n",
      "8561      23292.461                        housing renovation  \n",
      "9565      20280.745                  real estate transactions  \n",
      "9574      48501.946          to get a supplementary education  \n",
      "10177     49658.801                      getting an education  \n",
      "10365     27322.040                    building a real estate  \n",
      "10918     27322.044                  purchase of my own house  \n",
      "11109     35179.842                      housing transactions  \n",
      "11268     51456.592                              to buy a car  \n",
      "11617     26334.602           buying property for renting out  \n",
      "12304     50400.989                                  property  \n",
      "13786         0.000                                       car  \n",
      "14357     14761.213               buy residential real estate  \n",
      "15147     17758.530                              to own a car  \n",
      "15435     15700.406                         to have a wedding  \n",
      "16129     23942.573                                       car  \n",
      "16265     17917.516                     purchase of the house  \n",
      "17095     29207.022                  buying a second-hand car  \n",
      "17429     34370.243                                   housing  \n",
      "17657     19536.867          transactions with my real estate  \n",
      "18219     20537.924                      university education  \n",
      "19100     19552.880                    building a real estate  \n",
      "19366     24894.203                  second-hand car purchase  \n",
      "19417      8459.679                                      cars  \n",
      "20393     18643.367                  real estate transactions  \n",
      "20717     21984.862               buy residential real estate  \n",
      "21140     27129.935          transactions with my real estate  \n"
     ]
    }
   ],
   "source": [
    "print (data['children'].describe())\n",
    "\n",
    "print (data[data['children'] < 0])\n",
    "\n",
    "# See values of -1 Children, must be corrupted somehow\n",
    "\n",
    "# No patterns in the data, everything else is complete so it would be ideal to get rid of it\n",
    "\n",
    "# Ideally find a way so it will not skew the number of children analysis\n",
    "\n",
    "# Either to switch with N/A or leave as -1 and make sure to take it our in affected calculations such as mean\n",
    "\n",
    "# with the default rate we can just ignore this group and it will not do any harm\n",
    "\n",
    "# if we chose to use correlation functions then it would have been an issue"
   ]
  },
  {
   "cell_type": "markdown",
   "metadata": {},
   "source": [
    "### Conclusion"
   ]
  },
  {
   "cell_type": "markdown",
   "metadata": {},
   "source": [
    "- two columns ('total_income' & 'days_employed') has some rows with null values, which were switched to 0.\n",
    "- It is unclear whether we are missing the data or it should have been 0, so we choose to re-categorize the total_income null rows to a different 'income_type' - so nulls becoming zeros will not affect our calculation later on\n",
    "- We could potentially make similar assumption with 'days_employed' but choose not to change it's category since we do not plan to check correlation with it later on (unlike income level) \n",
    "- 'dob_years' has missing values of 0 - chose the replace with mean which is more than enough for our current situation in which we do not plan to use it. Switched just in case we will want to make some calculation, it will make sure the data is not skewed due to the 0's. "
   ]
  },
  {
   "cell_type": "markdown",
   "metadata": {},
   "source": [
    "### Fixing Capitalization"
   ]
  },
  {
   "cell_type": "code",
   "execution_count": 12,
   "metadata": {},
   "outputs": [
    {
     "name": "stdout",
     "output_type": "stream",
     "text": [
      "secondary education    15233\n",
      "bachelor's degree       5260\n",
      "some college             744\n",
      "primary education        282\n",
      "graduate degree            6\n",
      "Name: education, dtype: int64\n"
     ]
    }
   ],
   "source": [
    "data['education'] = data['education'].str.lower()\n",
    "\n",
    "print (data['education'].value_counts())\n",
    "\n"
   ]
  },
  {
   "cell_type": "markdown",
   "metadata": {},
   "source": [
    "### Data type replacement"
   ]
  },
  {
   "cell_type": "code",
   "execution_count": 13,
   "metadata": {},
   "outputs": [
    {
     "name": "stdout",
     "output_type": "stream",
     "text": [
      "count    21525.000000\n",
      "mean      -155.284588\n",
      "std        369.508940\n",
      "min      -1100.699727\n",
      "25%         -0.000000\n",
      "50%          2.691868\n",
      "75%          6.899093\n",
      "max         50.380685\n",
      "Name: years_employed, dtype: float64\n",
      "       children  days_employed  dob_years            education  education_id  \\\n",
      "3197          0   -1598.597777       54.0  secondary education             1   \n",
      "16617         0  355323.891557       48.0    bachelor's degree             0   \n",
      "11584         1       0.000000       53.0  secondary education             1   \n",
      "10153         0   -5916.181617       68.0  secondary education             1   \n",
      "12643         2   -3822.733633       41.0  secondary education             1   \n",
      "16537         0       0.000000       33.0  secondary education             1   \n",
      "7159          1       0.000000       61.0  secondary education             1   \n",
      "1447          0   -1980.262882       29.0  secondary education             1   \n",
      "19473         0    -351.433552       64.0    bachelor's degree             0   \n",
      "10682         0   -2667.914552       26.0    bachelor's degree             0   \n",
      "\n",
      "           family_status  family_status_id gender    income_type  debt  \\\n",
      "3197             married                 0      M       business     0   \n",
      "16617            married                 0      F        retiree     0   \n",
      "11584            married                 0      F          other     0   \n",
      "10153          unmarried                 4      F       employee     0   \n",
      "12643           divorced                 3      F       employee     0   \n",
      "16537            married                 0      M          other     0   \n",
      "7159             married                 0      F          other     0   \n",
      "1447             married                 0      M       employee     0   \n",
      "19473    widow / widower                 2      M       employee     0   \n",
      "10682  civil partnership                 1      F  civil servant     0   \n",
      "\n",
      "       total_income                   purpose  years_employed  \n",
      "3197      31182.820     purchase of the house        4.379720  \n",
      "16617     60693.342              car purchase     -973.490114  \n",
      "11584         0.000                  property       -0.000000  \n",
      "10153     13439.134  getting higher education       16.208717  \n",
      "12643     15272.213   supplementary education       10.473243  \n",
      "16537         0.000        housing renovation       -0.000000  \n",
      "7159          0.000      housing transactions       -0.000000  \n",
      "1447      18814.417              car purchase        5.425378  \n",
      "19473     55230.308           buy real estate        0.962832  \n",
      "10682     10593.204         purchase of a car        7.309355  \n"
     ]
    }
   ],
   "source": [
    "#days employeed doesn't make sense, upon examination of data looks like we need to change signs.\n",
    "#In addition, in order to make it easier to work with, we add another column of 'years_employeed'\n",
    "\n",
    "data['years_employed'] = (data['days_employed'] * -1) / 365\n",
    "\n",
    "print (data['years_employed'].describe())\n",
    "\n",
    "print (data.sample(10))\n",
    "\n",
    "\n",
    "#some values doesn't make sense - e.g.  366756.592599 days employeed which effectively means 1004 years\n",
    "#question is whether it is time effective to investgate further or delete unrealistic values\n",
    "#since this variable is not going to be used further in our specific analysis, it is not time effective to deal with it\n",
    "\n"
   ]
  },
  {
   "cell_type": "code",
   "execution_count": 14,
   "metadata": {},
   "outputs": [
    {
     "name": "stdout",
     "output_type": "stream",
     "text": [
      "<class 'pandas.core.frame.DataFrame'>\n",
      "RangeIndex: 21525 entries, 0 to 21524\n",
      "Data columns (total 13 columns):\n",
      "children            21525 non-null int64\n",
      "days_employed       21525 non-null float64\n",
      "dob_years           21525 non-null float64\n",
      "education           21525 non-null category\n",
      "education_id        21525 non-null int64\n",
      "family_status       21525 non-null category\n",
      "family_status_id    21525 non-null int64\n",
      "gender              21525 non-null category\n",
      "income_type         21525 non-null category\n",
      "debt                21525 non-null bool\n",
      "total_income        21525 non-null float64\n",
      "purpose             21525 non-null category\n",
      "years_employed      21525 non-null float64\n",
      "dtypes: bool(1), category(5), float64(4), int64(3)\n",
      "memory usage: 1.3 MB\n",
      "       children  days_employed  dob_years          education  education_id  \\\n",
      "10800         3   -4677.803335       42.0  bachelor's degree             0   \n",
      "\n",
      "      family_status  family_status_id gender income_type   debt  total_income  \\\n",
      "10800       married                 0      M    employee  False     41339.204   \n",
      "\n",
      "                 purpose  years_employed  \n",
      "10800  profile education         12.8159  \n"
     ]
    }
   ],
   "source": [
    "#debt should be boolean instead of int\n",
    "#days_employed has negatives, is it supposed to be a date?\n",
    "#ideally, maybe 'dob_years' should be a float instead of int (though we can't change the data now)\n",
    "#should we turn gender, income_type, purpose to 'category' data type?\n",
    "\n",
    "data['debt'] = data['debt'].astype('bool')\n",
    "data['gender'] = data['gender'].astype('category')\n",
    "data['education'] = data['education'].astype('category')\n",
    "data['family_status'] = data['family_status'].astype('category')\n",
    "data['income_type'] = data['income_type'].astype('category')\n",
    "data['purpose'] = data['purpose'].astype('category')\n",
    "data.info()\n",
    "print (data.sample())\n"
   ]
  },
  {
   "cell_type": "markdown",
   "metadata": {},
   "source": [
    "### Processing duplicates"
   ]
  },
  {
   "cell_type": "code",
   "execution_count": 15,
   "metadata": {},
   "outputs": [
    {
     "name": "stdout",
     "output_type": "stream",
     "text": [
      "0\n",
      "    children  days_employed  dob_years            education  education_id  \\\n",
      "0          1   -8437.673028       42.0    bachelor's degree             0   \n",
      "1          1   -4024.803754       36.0  secondary education             1   \n",
      "2          0   -5623.422610       33.0  secondary education             1   \n",
      "3          3   -4124.747207       32.0  secondary education             1   \n",
      "4          0  340266.072047       53.0  secondary education             1   \n",
      "5          0    -926.185831       27.0    bachelor's degree             0   \n",
      "6          0   -2879.202052       43.0    bachelor's degree             0   \n",
      "7          0    -152.779569       50.0  secondary education             1   \n",
      "8          2   -6929.865299       35.0    bachelor's degree             0   \n",
      "9          0   -2188.756445       41.0  secondary education             1   \n",
      "10         2   -4171.483647       36.0    bachelor's degree             0   \n",
      "11         0    -792.701887       40.0  secondary education             1   \n",
      "12         0       0.000000       65.0  secondary education             1   \n",
      "13         0   -1846.641941       54.0         some college             2   \n",
      "14         0   -1844.956182       56.0    bachelor's degree             0   \n",
      "15         1    -972.364419       26.0  secondary education             1   \n",
      "16         0   -1719.934226       35.0  secondary education             1   \n",
      "17         0   -2369.999720       33.0    bachelor's degree             0   \n",
      "18         0  400281.136913       53.0  secondary education             1   \n",
      "19         0  -10038.818549       48.0  secondary education             1   \n",
      "\n",
      "        family_status  family_status_id gender income_type   debt  \\\n",
      "0             married                 0      F    employee  False   \n",
      "1             married                 0      F    employee  False   \n",
      "2             married                 0      M    employee  False   \n",
      "3             married                 0      M    employee  False   \n",
      "4   civil partnership                 1      F     retiree  False   \n",
      "5   civil partnership                 1      M    business  False   \n",
      "6             married                 0      F    business  False   \n",
      "7             married                 0      M    employee  False   \n",
      "8   civil partnership                 1      F    employee  False   \n",
      "9             married                 0      M    employee  False   \n",
      "10            married                 0      M    business  False   \n",
      "11            married                 0      F    employee  False   \n",
      "12  civil partnership                 1      M       other  False   \n",
      "13            married                 0      F    employee  False   \n",
      "14  civil partnership                 1      F    business   True   \n",
      "15            married                 0      F    employee  False   \n",
      "16            married                 0      F    employee  False   \n",
      "17  civil partnership                 1      M    employee  False   \n",
      "18    widow / widower                 2      F     retiree  False   \n",
      "19           divorced                 3      F    employee  False   \n",
      "\n",
      "    total_income                              purpose  years_employed  \n",
      "0      40620.102                purchase of the house       23.116912  \n",
      "1      17932.802                         car purchase       11.026860  \n",
      "2      23341.752                purchase of the house       15.406637  \n",
      "3      42820.568              supplementary education       11.300677  \n",
      "4      25378.572                    to have a wedding     -932.235814  \n",
      "5      40922.170                purchase of the house        2.537495  \n",
      "6      38484.156                 housing transactions        7.888225  \n",
      "7      21731.829                            education        0.418574  \n",
      "8      15337.093                     having a wedding       18.985932  \n",
      "9      23108.150  purchase of the house for my family        5.996593  \n",
      "10     18230.959                      buy real estate       11.428722  \n",
      "11     12331.077           buy commercial real estate        2.171786  \n",
      "12         0.000                    to have a wedding       -0.000000  \n",
      "13     20873.317                         car purchase        5.059293  \n",
      "14     26420.466          buy residential real estate        5.054674  \n",
      "15     18691.345         construction of own property        2.664012  \n",
      "16     46272.433                             property        4.712149  \n",
      "17     14465.694                  building a property        6.493150  \n",
      "18      9091.804             buying a second-hand car    -1096.660649  \n",
      "19     38852.977                    buying my own car       27.503612  \n"
     ]
    }
   ],
   "source": [
    "#checking if it exists\n",
    "#print (data.duplicated().sum())\n",
    "#exists, could be due to various systems we pull the data from and they are not all syncronized \n",
    "#preferebaly to remove those.\n",
    "\n",
    "data = data.drop_duplicates().reset_index(drop=True)\n",
    "\n",
    "print (data.duplicated().sum())\n",
    "print (data.head(20))\n",
    "\n",
    "#no duplicates now and index has been resetted \n",
    "\n"
   ]
  },
  {
   "cell_type": "code",
   "execution_count": 16,
   "metadata": {},
   "outputs": [],
   "source": [
    "#only a few 'graduate degree' values doesn't make sense not to combine with 'secondary education'\n",
    "data['education'] = data['education'].replace('graduate degree','secondary education')"
   ]
  },
  {
   "cell_type": "markdown",
   "metadata": {},
   "source": [
    "### Categorizing Data"
   ]
  },
  {
   "cell_type": "code",
   "execution_count": 17,
   "metadata": {},
   "outputs": [
    {
     "name": "stdout",
     "output_type": "stream",
     "text": [
      "wedding ceremony                            788\n",
      "to have a wedding                           764\n",
      "having a wedding                            764\n",
      "real estate transactions                    674\n",
      "buy commercial real estate                  658\n",
      "housing transactions                        651\n",
      "buying property for renting out             650\n",
      "transactions with commercial real estate    649\n",
      "purchase of the house                       646\n",
      "housing                                     643\n",
      "purchase of the house for my family         636\n",
      "construction of own property                634\n",
      "property                                    630\n",
      "transactions with my real estate            626\n",
      "building a real estate                      623\n",
      "building a property                         618\n",
      "purchase of my own house                    617\n",
      "buy real estate                             617\n",
      "housing renovation                          604\n",
      "buy residential real estate                 604\n",
      "buying my own car                           505\n",
      "car                                         494\n",
      "going to university                         494\n",
      "second-hand car purchase                    484\n",
      "buying a second-hand car                    478\n",
      "cars                                        477\n",
      "to own a car                                476\n",
      "to buy a car                                471\n",
      "car purchase                                460\n",
      "supplementary education                     460\n",
      "purchase of a car                           455\n",
      "university education                        451\n",
      "education                                   447\n",
      "to get a supplementary education            444\n",
      "getting an education                        441\n",
      "profile education                           434\n",
      "getting higher education                    425\n",
      "to become educated                          406\n",
      "Name: purpose, dtype: int64\n"
     ]
    }
   ],
   "source": [
    "#dealing with the 'purpose' column\n",
    "temp = data['purpose'].value_counts()\n",
    "print (temp)\n",
    "#results show we better use lemmatization or stemming to properly categorize \n",
    "#or manually use rule based since there are not as many categories\n"
   ]
  },
  {
   "cell_type": "code",
   "execution_count": 18,
   "metadata": {},
   "outputs": [
    {
     "name": "stdout",
     "output_type": "stream",
     "text": [
      "Investment        6983\n",
      "Car               4300\n",
      "Education         4002\n",
      "Buying a house    3797\n",
      "Wedding           2316\n",
      "Name: new_purpose, dtype: int64\n"
     ]
    }
   ],
   "source": [
    "# tried to use lemmatizer but did not figure it out\n",
    "#decided to stick with the simpler approach above for now \n",
    "\n",
    "# import nltk\n",
    "# from nltk.stem import WordNetLemmatizer\n",
    "# wordnet_lemma = WordNetLemmatizer()\n",
    "# data['lemma_purpose'] = data['purpose']\n",
    "\n",
    "# for word in data['purpose']:\n",
    "#     words = nltk.word_tokenize(word)\n",
    "#    #lemmas = ' '.join([wordnet_lemma.lemmatize(w, pos = 'n') for w in words])\n",
    "#     data['lemma_purpose'] = data['lemma_purpose'].replace(word,' '.join([wordnet_lemma.lemmatize(w, pos = 'n') for w in words]))\n",
    "\n",
    "# print (data['lemma_purpose'].value_counts())\n",
    "\n",
    "\n",
    "queries = data['purpose']\n",
    "data['new_purpose'] = data['purpose']\n",
    "\n",
    "                                                      \n",
    "for query in queries:\n",
    "    if 'hous' in query:\n",
    "        data['new_purpose'] = data['new_purpose'].replace(query,'Buying a house')\n",
    "        \n",
    "    elif 'wedd' in query:\n",
    "        data['new_purpose'] = data['new_purpose'].replace(query,'Wedding') \n",
    "        \n",
    "    elif 'car' in query:\n",
    "        data['new_purpose'] = data['new_purpose'].replace(query,'Car')\n",
    "        \n",
    "    elif 'educ' in query or 'univer' in query:\n",
    "        data['new_purpose'] = data['new_purpose'].replace(query,'Education')\n",
    "        \n",
    "    elif 'property' in query or 'estate' in query:\n",
    "        data['new_purpose'] = data['new_purpose'].replace(query,'Investment')        \n",
    "   \n",
    "        \n",
    "        \n",
    "print (data['new_purpose'].value_counts())\n",
    "\n"
   ]
  },
  {
   "cell_type": "markdown",
   "metadata": {},
   "source": [
    "### Analyse the data"
   ]
  },
  {
   "cell_type": "markdown",
   "metadata": {},
   "source": [
    "- Is there a relation between having kids and repaying a loan on time?"
   ]
  },
  {
   "cell_type": "code",
   "execution_count": 20,
   "metadata": {},
   "outputs": [
    {
     "name": "stdout",
     "output_type": "stream",
     "text": [
      "            len     sum default_rate\n",
      "           debt    debt             \n",
      "children                            \n",
      "-1           47     1.0     0.021277\n",
      " 0        14043  1063.0     0.075696\n",
      " 1         4803   444.0     0.092442\n",
      " 2         2049   194.0     0.094680\n",
      " 3          330    27.0     0.081818\n",
      " 4           41     4.0     0.097561\n",
      " 5            9     0.0     0.000000\n",
      " 20          76     8.0     0.105263\n"
     ]
    }
   ],
   "source": [
    "#calculate default rate per amount of kids groups\n",
    "\n",
    "data_pivot = data.pivot_table(index=['children'], values=['debt'],  aggfunc=[len,sum])\n",
    "\n",
    "data_pivot['default_rate'] = data_pivot['sum'] / data_pivot['len']\n",
    "\n",
    "print (data_pivot)\n",
    "\n",
    "#print (data_pivot.corr())\n",
    "\n"
   ]
  },
  {
   "cell_type": "markdown",
   "metadata": {},
   "source": [
    "### Conclusion"
   ]
  },
  {
   "cell_type": "markdown",
   "metadata": {},
   "source": [
    "We can see a clear correlation between number of children to a higher default rate.\n",
    "- Even if for the '5 children' group we have no defaults, a sample of 9 is too small to draw conclusions.\n",
    "- Keep in mind we ignore the '-1 children' group - they doesn't make sense but the rest of the data in those rows looks complete so we chose not to get rid of it.\n"
   ]
  },
  {
   "cell_type": "markdown",
   "metadata": {},
   "source": [
    "- Is there a relation between marital status and repaying a loan on time?"
   ]
  },
  {
   "cell_type": "code",
   "execution_count": 21,
   "metadata": {},
   "outputs": [
    {
     "name": "stdout",
     "output_type": "stream",
     "text": [
      "                     len    sum default_rate\n",
      "                    debt   debt             \n",
      "family_status                               \n",
      "civil partnership   4142  388.0     0.093675\n",
      "divorced            1194   85.0     0.071189\n",
      "married            12296  931.0     0.075716\n",
      "unmarried           2809  274.0     0.097544\n",
      "widow / widower      957   63.0     0.065831\n"
     ]
    }
   ],
   "source": [
    "data_pivot = data.pivot_table(index=['family_status'], values=['debt'],  aggfunc=[len,sum])\n",
    "\n",
    "data_pivot['default_rate'] = data_pivot['sum'] / data_pivot['len']\n",
    "\n",
    "print (data_pivot)"
   ]
  },
  {
   "cell_type": "markdown",
   "metadata": {},
   "source": [
    "### Conclusion"
   ]
  },
  {
   "cell_type": "markdown",
   "metadata": {},
   "source": [
    "We do see a difference and correlation between marital status and default rate. Widows are less likley to default on their loan. Next, we have the divorced and married groups and then civital partnership and unmarried. \n",
    "\n",
    "Just to emphasize, it is evident that an unmarried person has almost 50% higher chance of defalting on a loan than a widow. "
   ]
  },
  {
   "cell_type": "markdown",
   "metadata": {},
   "source": [
    "- Is there a relation between income level and repaying a loan on time?"
   ]
  },
  {
   "cell_type": "code",
   "execution_count": 62,
   "metadata": {},
   "outputs": [
    {
     "name": "stdout",
     "output_type": "stream",
     "text": [
      "       children  days_employed  dob_years            education  education_id  \\\n",
      "3602          0   -5804.653447   40.00000    primary education             3   \n",
      "2695          0  396597.151698   52.00000    bachelor's degree             0   \n",
      "7954          0   -2163.226637   41.00000  secondary education             1   \n",
      "7762          0  328923.448222   57.00000  secondary education             1   \n",
      "8114          1   -1285.872512   35.00000  secondary education             1   \n",
      "13069         0    -183.705474   27.00000  secondary education             1   \n",
      "5454          1  339310.871728   63.00000    bachelor's degree             0   \n",
      "1966          0       0.000000   43.29338  secondary education             1   \n",
      "19119         1  356498.450958   48.00000  secondary education             1   \n",
      "3128          0   -1147.059848   39.00000  secondary education             1   \n",
      "\n",
      "           family_status  family_status_id gender income_type   debt  \\\n",
      "3602   civil partnership                 1      F    business  False   \n",
      "2695             married                 0      F     retiree  False   \n",
      "7954           unmarried                 4      F    business  False   \n",
      "7762             married                 0      M     retiree  False   \n",
      "8114   civil partnership                 1      F    employee   True   \n",
      "13069          unmarried                 4      M    employee  False   \n",
      "5454             married                 0      F     retiree  False   \n",
      "1966             married                 0      F       other  False   \n",
      "19119            married                 0      F     retiree  False   \n",
      "3128   civil partnership                 1      M    employee  False   \n",
      "\n",
      "       total_income                                   purpose  years_employed  \\\n",
      "3602      11368.245                       going to university       15.903160   \n",
      "2695       9057.310                      housing transactions    -1086.567539   \n",
      "7954      17904.071                      getting an education        5.926648   \n",
      "7762      17679.392  transactions with commercial real estate     -901.160132   \n",
      "8114      18093.297                        to become educated        3.522938   \n",
      "13069     25412.388                  real estate transactions        0.503303   \n",
      "5454      14493.847                        housing renovation     -929.618827   \n",
      "1966          0.000                           buy real estate       -0.000000   \n",
      "19119     42456.426       purchase of the house for my family     -976.708085   \n",
      "3128      10373.448       purchase of the house for my family        3.142630   \n",
      "\n",
      "          new_purpose income_level  \n",
      "3602        Education            8  \n",
      "2695   Buying a house            8  \n",
      "7954        Education            6  \n",
      "7762       Investment            6  \n",
      "8114        Education            6  \n",
      "13069      Investment            3  \n",
      "5454   Buying a house            7  \n",
      "1966       Investment            9  \n",
      "19119  Buying a house            1  \n",
      "3128   Buying a house            8  \n"
     ]
    }
   ],
   "source": [
    "# added income level groups so we can actually calculate different default rates per group. \n",
    "# Found online some easier ways to cut the data but they required numpy which we do not use so I just did it manually\n",
    "\n",
    "#sorting the data and reseting the index so we can use it to group into 10 categories\n",
    "data = data.sort_values(by='total_income', ascending=True).reset_index(drop=True)\n",
    "\n",
    "#length of the observations\n",
    "length = data['total_income'].size\n",
    "\n",
    "#the point in which we decided that observations will go to a different group\n",
    "tenth = length / 10 \n",
    "\n",
    "#nested for loops - was a challenge for me to understand how to communicate with the index of a row\n",
    "for i, row in data.iterrows():\n",
    "    \n",
    "    for z in range(10):\n",
    "        if i >= (length - (z+1)*tenth):\n",
    "            data.at[i, 'income_level'] = z\n",
    "            break\n",
    "    \n",
    "# at first I did it manually just to see that the logic works:\n",
    "\n",
    "#     if i > (length - tenth):\n",
    "#         data.at[i, 'income_level'] = '10%'\n",
    "#         #row['income_level'] = '10%'\n",
    "        \n",
    "#     elif i > (length - 2*tenth):\n",
    "#         data.at[i, 'income_level'] = '20%'\n",
    "#         #row['income_level'] = '20%'\n",
    "        \n",
    "#     elif i > (length - 3*tenth):\n",
    "#         data.at[i, 'income_level'] = '30%'\n",
    "#         #row['income_level'] = '30%'\n",
    "        \n",
    "#     elif i > (length - 4*tenth):\n",
    "#         data.at[i, 'income_level'] = '40%'\n",
    "#         #row['income_level'] = '40%'\n",
    "        \n",
    "#     elif i > (length - 5*tenth):\n",
    "#         data.at[i, 'income_level'] = '50%'\n",
    "#         #row['income_level'] = '50%'\n",
    "        \n",
    "#     else: data.at[i, 'income_level'] = '0'\n",
    "        \n",
    "        \n",
    "#checking a couple of times to see that it works (after checking head & tail as well):\n",
    "\n",
    "print (data.sample(10))\n",
    "        "
   ]
  },
  {
   "cell_type": "code",
   "execution_count": 63,
   "metadata": {},
   "outputs": [
    {
     "name": "stdout",
     "output_type": "stream",
     "text": [
      "               len    sum default_rate\n",
      "              debt   debt             \n",
      "income_level                          \n",
      "0             2139  151.0     0.070594\n",
      "1             2140  148.0     0.069159\n",
      "2             2140  179.0     0.083645\n",
      "3             2140  191.0     0.089252\n",
      "4             2140  193.0     0.090187\n",
      "5             2139  180.0     0.084151\n",
      "6             2140  182.0     0.085047\n",
      "7             2140  177.0     0.082710\n",
      "8             2140  165.0     0.077103\n",
      "9             2140  175.0     0.081776\n"
     ]
    }
   ],
   "source": [
    "data_pivot = data.pivot_table(index=['income_level'], values=['debt'],  aggfunc=[len,sum])\n",
    "\n",
    "data_pivot['default_rate'] = data_pivot['sum'] / data_pivot['len']\n",
    "\n",
    "print (data_pivot)\n",
    "\n",
    "# print(data_pivot.corr())"
   ]
  },
  {
   "cell_type": "markdown",
   "metadata": {},
   "source": [
    "### Conclusion"
   ]
  },
  {
   "cell_type": "markdown",
   "metadata": {},
   "source": [
    "We can spot that different income levels do affect the default rate up to a certain point. The top 10% of the observations were the least likely to default, though, the bottom 10% were also less likely to get default than the medium income observations. \n",
    "My hypothesis is  that generally speaking, the higher your income the less likely you are to default on a loan and what we see on the data for the lower income tiers could be a result of a much higher barriers into getting a loan in the first place (the historical data could be somehow biased in advance).  "
   ]
  },
  {
   "cell_type": "markdown",
   "metadata": {},
   "source": [
    "- How do different loan purposes affect on-time repayment of the loan?"
   ]
  },
  {
   "cell_type": "code",
   "execution_count": 65,
   "metadata": {},
   "outputs": [
    {
     "name": "stdout",
     "output_type": "stream",
     "text": [
      "                 len    sum default_rate\n",
      "                debt   debt             \n",
      "new_purpose                             \n",
      "Buying a house  3797  256.0     0.067422\n",
      "Car             4300  403.0     0.093721\n",
      "Education       4002  370.0     0.092454\n",
      "Investment      6983  526.0     0.075326\n",
      "Wedding         2316  186.0     0.080311\n"
     ]
    }
   ],
   "source": [
    "data_pivot = data.pivot_table(index=['new_purpose'], values=['debt'],  aggfunc=[len,sum])\n",
    "\n",
    "data_pivot['default_rate'] = data_pivot['sum'] / data_pivot['len']\n",
    "\n",
    "print (data_pivot)"
   ]
  },
  {
   "cell_type": "markdown",
   "metadata": {},
   "source": [
    "### Conclusion"
   ]
  },
  {
   "cell_type": "markdown",
   "metadata": {},
   "source": [
    "It is evident from the data the different loan purpose affects the likelihood of a person to go default on a loan. For instance, a person who takes a loan in order to buy a car or get an education has over 30% higher chance to default their loan compared to someone who takes a loan in order to buy a house. "
   ]
  },
  {
   "cell_type": "markdown",
   "metadata": {},
   "source": [
    "### General conclusion"
   ]
  },
  {
   "cell_type": "markdown",
   "metadata": {},
   "source": [
    "It is seen from that data that number of kids, marital status, income level and loan purposes - all affect whether a person is likely to pay a loan in time. That being said, this is just an initial examination of those features and a real model has to take into account the following:\n",
    "1. More complex scenarios that take into account the affect on one parameter on the other - e.g. a younger widow vs older widow or how having more kids affects based on different locations. \n",
    "2. Different types of default, it could be that the higher your income the lower your change to go default, but once you go default it puts the whole bank in a risk. So, do banks lose 10% of their original loan value or maybe 75%? \n"
   ]
  }
 ],
 "metadata": {
  "kernelspec": {
   "display_name": "Python 3",
   "language": "python",
   "name": "python3"
  },
  "language_info": {
   "codemirror_mode": {
    "name": "ipython",
    "version": 3
   },
   "file_extension": ".py",
   "mimetype": "text/x-python",
   "name": "python",
   "nbconvert_exporter": "python",
   "pygments_lexer": "ipython3",
   "version": "3.8.8"
  }
 },
 "nbformat": 4,
 "nbformat_minor": 2
}
